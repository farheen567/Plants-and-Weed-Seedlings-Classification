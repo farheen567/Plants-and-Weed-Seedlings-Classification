{
 "cells": [
  {
   "cell_type": "markdown",
   "id": "965d4ba8",
   "metadata": {},
   "source": [
    "##### import matplotlib.pyplot as plt\n",
    "import numpy as np\n",
    "import os\n",
    "import PIL\n",
    "import tensorflow as tf\n",
    "from tensorflow import keras\n",
    "from tensorflow.keras import layers\n",
    "from tensorflow.keras.layers import Dense, Flatten\n",
    "from tensorflow.keras.models import Sequential\n",
    "from tensorflow.keras.optimizers import Adam\n",
    "from keras import models"
   ]
  },
  {
   "cell_type": "code",
   "execution_count": 2,
   "id": "ad215de6",
   "metadata": {},
   "outputs": [],
   "source": [
    "CATEGORIES = ['Black-grass',\n",
    "          'Charlock',\n",
    "          'Cleavers',\n",
    "          'Common Chickweed',\n",
    "          'Common wheat',\n",
    "          'Fat Hen',\n",
    "          'Loose Silky-bent',\n",
    "          'Maize',\n",
    "          'Scentless Mayweed',\n",
    "          'Shepherds Purse',\n",
    "          'Small-flowered Cranesbill',\n",
    "          'Sugar beet']\n",
    "\n",
    "IMG_SIZE=224\n",
    "\n",
    "DATADIR  = 'D:/project/dataset/train'\n",
    "DATADIR_TEST  = 'D:/project/dataset/test'"
   ]
  },
  {
   "cell_type": "code",
   "execution_count": 3,
   "id": "c21c54b5",
   "metadata": {},
   "outputs": [
    {
     "name": "stdout",
     "output_type": "stream",
     "text": [
      "Found 4279 images belonging to 12 classes.\n",
      "Found 471 images belonging to 12 classes.\n",
      "Found 794 images belonging to 1 classes.\n"
     ]
    }
   ],
   "source": [
    "TRAIN_DATA_DIR = DATADIR\n",
    "batch_size = 16\n",
    "# create data generators\n",
    "def data_generators():\n",
    "\n",
    "    # apply random transformations on training data\n",
    "    train_data_generator = tf.keras.preprocessing.image.ImageDataGenerator(\n",
    "        rescale=1./255,\n",
    "        shear_range=0.2,\n",
    "        rotation_range=180,\n",
    "        width_shift_range=0.3,\n",
    "        height_shift_range=0.3,\n",
    "        zoom_range=0.3,\n",
    "        horizontal_flip=True,\n",
    "        vertical_flip=True,\n",
    "        validation_split = 0.1,\n",
    "    )\n",
    "    test_data_generator = tf.keras.preprocessing.image.ImageDataGenerator(\n",
    "      rescale=1./255)\n",
    "    \n",
    "    train_gen = train_data_generator.flow_from_directory(\n",
    "        directory = TRAIN_DATA_DIR,\n",
    "        target_size = (IMG_SIZE, IMG_SIZE),\n",
    "        color_mode = 'rgb',\n",
    "        class_mode = \"categorical\",\n",
    "        batch_size = batch_size,\n",
    "        subset = 'training',\n",
    "    )\n",
    "\n",
    "    # define validation data generator\n",
    "    validation_gen = train_data_generator.flow_from_directory(\n",
    "        directory = TRAIN_DATA_DIR,\n",
    "        color_mode = 'rgb',\n",
    "        class_mode = \"categorical\",\n",
    "        target_size = (IMG_SIZE, IMG_SIZE),\n",
    "        batch_size = batch_size,\n",
    "        subset = 'validation',\n",
    "        shuffle=False\n",
    "    )\n",
    "    test_gen = test_data_generator.flow_from_directory(\n",
    "        directory= 'D:/project/dataset',\n",
    "        classes=['test'],\n",
    "        target_size=(IMG_SIZE, IMG_SIZE),\n",
    "        batch_size=1,\n",
    "        color_mode='rgb',\n",
    "        shuffle=False,\n",
    "        class_mode='categorical')\n",
    "    return train_gen, validation_gen, test_gen\n",
    "train_gen, validation_gen, test_gen = data_generators()"
   ]
  },
  {
   "cell_type": "code",
   "execution_count": 4,
   "id": "36a9cae0",
   "metadata": {},
   "outputs": [
    {
     "name": "stdout",
     "output_type": "stream",
     "text": [
      "{'Black-grass': 0, 'Charlock': 1, 'Cleavers': 2, 'Common Chickweed': 3, 'Common wheat': 4, 'Fat Hen': 5, 'Loose Silky-bent': 6, 'Maize': 7, 'Scentless Mayweed': 8, 'Shepherds Purse': 9, 'Small-flowered Cranesbill': 10, 'Sugar beet': 11}\n"
     ]
    }
   ],
   "source": [
    "print(train_gen.class_indices)"
   ]
  },
  {
   "cell_type": "code",
   "execution_count": 5,
   "id": "200d4eb2",
   "metadata": {},
   "outputs": [],
   "source": [
    "#create Sequential\n",
    "model = models.Sequential()\n",
    "\n",
    "\n",
    "model.add(layers.Conv2D(32, kernel_size=(3,3), input_shape=(IMG_SIZE, IMG_SIZE, 3), activation='relu'))\n",
    "model.add(layers.MaxPooling2D((2, 2)))\n",
    "model.add(layers.Dropout(0.1)) #dropout for each layer in order to avoid overfitting.\n",
    "\n",
    "\n",
    "model.add(layers.Conv2D(64, kernel_size=(3,3), activation='relu'))\n",
    "model.add(layers.MaxPooling2D((2, 2)))\n",
    "model.add(layers.Dropout(0.1))\n",
    "\n",
    "\n",
    "\n",
    "model.add(layers.Conv2D(128,kernel_size=(3,3), activation='relu'))\n",
    "model.add(layers.MaxPooling2D((2, 2)))\n",
    "model.add(layers.Dropout(0.1))\n",
    "\n",
    "\n",
    "model.add(layers.Conv2D(256, kernel_size=(3,3), activation='relu'))\n",
    "model.add(layers.MaxPooling2D((2, 2)))\n",
    "model.add(layers.Dropout(0.1))\n",
    "\n",
    "model.add(layers.Flatten())\n",
    "model.add(layers.Dense(256, activation='relu'))\n",
    "model.add(layers.Dense(256, activation='relu'))\n",
    "model.add(layers.Dense(12, activation='softmax'))"
   ]
  },
  {
   "cell_type": "code",
   "execution_count": 6,
   "id": "4aae714a",
   "metadata": {},
   "outputs": [
    {
     "name": "stdout",
     "output_type": "stream",
     "text": [
      "Model: \"sequential\"\n",
      "_________________________________________________________________\n",
      " Layer (type)                Output Shape              Param #   \n",
      "=================================================================\n",
      " conv2d (Conv2D)             (None, 222, 222, 32)      896       \n",
      "                                                                 \n",
      " max_pooling2d (MaxPooling2D  (None, 111, 111, 32)     0         \n",
      " )                                                               \n",
      "                                                                 \n",
      " dropout (Dropout)           (None, 111, 111, 32)      0         \n",
      "                                                                 \n",
      " conv2d_1 (Conv2D)           (None, 109, 109, 64)      18496     \n",
      "                                                                 \n",
      " max_pooling2d_1 (MaxPooling  (None, 54, 54, 64)       0         \n",
      " 2D)                                                             \n",
      "                                                                 \n",
      " dropout_1 (Dropout)         (None, 54, 54, 64)        0         \n",
      "                                                                 \n",
      " conv2d_2 (Conv2D)           (None, 52, 52, 128)       73856     \n",
      "                                                                 \n",
      " max_pooling2d_2 (MaxPooling  (None, 26, 26, 128)      0         \n",
      " 2D)                                                             \n",
      "                                                                 \n",
      " dropout_2 (Dropout)         (None, 26, 26, 128)       0         \n",
      "                                                                 \n",
      " conv2d_3 (Conv2D)           (None, 24, 24, 256)       295168    \n",
      "                                                                 \n",
      " max_pooling2d_3 (MaxPooling  (None, 12, 12, 256)      0         \n",
      " 2D)                                                             \n",
      "                                                                 \n",
      " dropout_3 (Dropout)         (None, 12, 12, 256)       0         \n",
      "                                                                 \n",
      " flatten (Flatten)           (None, 36864)             0         \n",
      "                                                                 \n",
      " dense (Dense)               (None, 256)               9437440   \n",
      "                                                                 \n",
      " dense_1 (Dense)             (None, 256)               65792     \n",
      "                                                                 \n",
      " dense_2 (Dense)             (None, 12)                3084      \n",
      "                                                                 \n",
      "=================================================================\n",
      "Total params: 9,894,732\n",
      "Trainable params: 9,894,732\n",
      "Non-trainable params: 0\n",
      "_________________________________________________________________\n"
     ]
    }
   ],
   "source": [
    "model.summary()"
   ]
  },
  {
   "cell_type": "code",
   "execution_count": 7,
   "id": "cdd8f084",
   "metadata": {},
   "outputs": [],
   "source": [
    "optimizer = keras.optimizers.Adam(0.0005)"
   ]
  },
  {
   "cell_type": "code",
   "execution_count": 8,
   "id": "42f94e75",
   "metadata": {},
   "outputs": [],
   "source": [
    "model.compile(optimizer= optimizer ,loss='categorical_crossentropy',metrics=['accuracy'])"
   ]
  },
  {
   "cell_type": "code",
   "execution_count": 9,
   "id": "5e3e0ea3",
   "metadata": {},
   "outputs": [],
   "source": [
    "# save best model regularly\n",
    "save_best_model = tf.keras.callbacks.ModelCheckpoint(filepath = 'best.h5',monitor = 'val_accuracy', \n",
    "                                                     save_best_only = True, verbose = 1,mode='max')\n",
    "# reduce learning rate when it stops decreasing\n",
    "reduce_lr = tf.keras.callbacks.ReduceLROnPlateau(monitor = 'val_accuracy', factor = 0.4,patience = 3,\n",
    "                                                 min_lr = 1e-10, verbose = 1, cooldown = 1)\n",
    "# stop training early if no further improvement\n",
    "early_stopping = tf.keras.callbacks.EarlyStopping(monitor = 'val_accuracy', min_delta = 1e-2, patience = 10, verbose = 1,\n",
    "        mode = 'max', baseline = None, restore_best_weights = True)\n",
    "callback=[save_best_model, reduce_lr, early_stopping]"
   ]
  },
  {
   "cell_type": "code",
   "execution_count": 10,
   "id": "8c3c9bb9",
   "metadata": {},
   "outputs": [
    {
     "name": "stdout",
     "output_type": "stream",
     "text": [
      "Epoch 1/100\n",
      "267/267 [==============================] - ETA: 0s - loss: 2.3177 - accuracy: 0.1830\n",
      "Epoch 1: val_accuracy improved from -inf to 0.30388, saving model to best.h5\n",
      "267/267 [==============================] - 480s 2s/step - loss: 2.3177 - accuracy: 0.1830 - val_loss: 2.0257 - val_accuracy: 0.3039 - lr: 5.0000e-04\n",
      "Epoch 2/100\n",
      "267/267 [==============================] - ETA: 0s - loss: 1.7917 - accuracy: 0.3547\n",
      "Epoch 2: val_accuracy improved from 0.30388 to 0.37069, saving model to best.h5\n",
      "267/267 [==============================] - 422s 2s/step - loss: 1.7917 - accuracy: 0.3547 - val_loss: 1.7727 - val_accuracy: 0.3707 - lr: 5.0000e-04\n",
      "Epoch 3/100\n",
      "267/267 [==============================] - ETA: 0s - loss: 1.5098 - accuracy: 0.4598\n",
      "Epoch 3: val_accuracy improved from 0.37069 to 0.51509, saving model to best.h5\n",
      "267/267 [==============================] - 423s 2s/step - loss: 1.5098 - accuracy: 0.4598 - val_loss: 1.3930 - val_accuracy: 0.5151 - lr: 5.0000e-04\n",
      "Epoch 4/100\n",
      "267/267 [==============================] - ETA: 0s - loss: 1.3787 - accuracy: 0.5133\n",
      "Epoch 4: val_accuracy did not improve from 0.51509\n",
      "267/267 [==============================] - 419s 2s/step - loss: 1.3787 - accuracy: 0.5133 - val_loss: 1.4555 - val_accuracy: 0.4957 - lr: 5.0000e-04\n",
      "Epoch 5/100\n",
      "267/267 [==============================] - ETA: 0s - loss: 1.2791 - accuracy: 0.5571\n",
      "Epoch 5: val_accuracy improved from 0.51509 to 0.57328, saving model to best.h5\n",
      "267/267 [==============================] - 422s 2s/step - loss: 1.2791 - accuracy: 0.5571 - val_loss: 1.2383 - val_accuracy: 0.5733 - lr: 5.0000e-04\n",
      "Epoch 6/100\n",
      "267/267 [==============================] - ETA: 0s - loss: 1.2104 - accuracy: 0.5829\n",
      "Epoch 6: val_accuracy did not improve from 0.57328\n",
      "267/267 [==============================] - 418s 2s/step - loss: 1.2104 - accuracy: 0.5829 - val_loss: 1.3614 - val_accuracy: 0.5129 - lr: 5.0000e-04\n",
      "Epoch 7/100\n",
      "267/267 [==============================] - ETA: 0s - loss: 1.1218 - accuracy: 0.6122\n",
      "Epoch 7: val_accuracy improved from 0.57328 to 0.61853, saving model to best.h5\n",
      "267/267 [==============================] - 419s 2s/step - loss: 1.1218 - accuracy: 0.6122 - val_loss: 1.0826 - val_accuracy: 0.6185 - lr: 5.0000e-04\n",
      "Epoch 8/100\n",
      "267/267 [==============================] - ETA: 0s - loss: 1.0517 - accuracy: 0.6322\n",
      "Epoch 8: val_accuracy improved from 0.61853 to 0.65517, saving model to best.h5\n",
      "267/267 [==============================] - 421s 2s/step - loss: 1.0517 - accuracy: 0.6322 - val_loss: 0.9848 - val_accuracy: 0.6552 - lr: 5.0000e-04\n",
      "Epoch 9/100\n",
      "267/267 [==============================] - ETA: 0s - loss: 0.9683 - accuracy: 0.6552\n",
      "Epoch 9: val_accuracy did not improve from 0.65517\n",
      "267/267 [==============================] - 420s 2s/step - loss: 0.9683 - accuracy: 0.6552 - val_loss: 0.9386 - val_accuracy: 0.6552 - lr: 5.0000e-04\n",
      "Epoch 10/100\n",
      "267/267 [==============================] - ETA: 0s - loss: 0.9334 - accuracy: 0.6613\n",
      "Epoch 10: val_accuracy did not improve from 0.65517\n",
      "267/267 [==============================] - 421s 2s/step - loss: 0.9334 - accuracy: 0.6613 - val_loss: 1.1628 - val_accuracy: 0.5948 - lr: 5.0000e-04\n",
      "Epoch 11/100\n",
      "267/267 [==============================] - ETA: 0s - loss: 0.8495 - accuracy: 0.7042\n",
      "Epoch 11: val_accuracy improved from 0.65517 to 0.69612, saving model to best.h5\n",
      "267/267 [==============================] - 421s 2s/step - loss: 0.8495 - accuracy: 0.7042 - val_loss: 0.8418 - val_accuracy: 0.6961 - lr: 5.0000e-04\n",
      "Epoch 12/100\n",
      "267/267 [==============================] - ETA: 0s - loss: 0.8085 - accuracy: 0.7230\n",
      "Epoch 12: val_accuracy improved from 0.69612 to 0.76293, saving model to best.h5\n",
      "267/267 [==============================] - 418s 2s/step - loss: 0.8085 - accuracy: 0.7230 - val_loss: 0.6856 - val_accuracy: 0.7629 - lr: 5.0000e-04\n",
      "Epoch 13/100\n",
      "267/267 [==============================] - ETA: 0s - loss: 0.7383 - accuracy: 0.7394\n",
      "Epoch 13: val_accuracy did not improve from 0.76293\n",
      "267/267 [==============================] - 420s 2s/step - loss: 0.7383 - accuracy: 0.7394 - val_loss: 0.8993 - val_accuracy: 0.6659 - lr: 5.0000e-04\n",
      "Epoch 14/100\n",
      "267/267 [==============================] - ETA: 0s - loss: 0.7050 - accuracy: 0.7481\n",
      "Epoch 14: val_accuracy improved from 0.76293 to 0.78017, saving model to best.h5\n",
      "267/267 [==============================] - 422s 2s/step - loss: 0.7050 - accuracy: 0.7481 - val_loss: 0.6608 - val_accuracy: 0.7802 - lr: 5.0000e-04\n",
      "Epoch 15/100\n",
      "267/267 [==============================] - ETA: 0s - loss: 0.6511 - accuracy: 0.7654\n",
      "Epoch 15: val_accuracy improved from 0.78017 to 0.78448, saving model to best.h5\n",
      "267/267 [==============================] - 419s 2s/step - loss: 0.6511 - accuracy: 0.7654 - val_loss: 0.6025 - val_accuracy: 0.7845 - lr: 5.0000e-04\n",
      "Epoch 16/100\n",
      "267/267 [==============================] - ETA: 0s - loss: 0.6138 - accuracy: 0.7847\n",
      "Epoch 16: val_accuracy did not improve from 0.78448\n",
      "267/267 [==============================] - 419s 2s/step - loss: 0.6138 - accuracy: 0.7847 - val_loss: 0.5883 - val_accuracy: 0.7845 - lr: 5.0000e-04\n",
      "Epoch 17/100\n",
      "267/267 [==============================] - ETA: 0s - loss: 0.5927 - accuracy: 0.7882\n",
      "Epoch 17: val_accuracy improved from 0.78448 to 0.80388, saving model to best.h5\n",
      "267/267 [==============================] - 422s 2s/step - loss: 0.5927 - accuracy: 0.7882 - val_loss: 0.5569 - val_accuracy: 0.8039 - lr: 5.0000e-04\n",
      "Epoch 18/100\n",
      "267/267 [==============================] - ETA: 0s - loss: 0.5236 - accuracy: 0.8116\n",
      "Epoch 18: val_accuracy improved from 0.80388 to 0.81250, saving model to best.h5\n",
      "267/267 [==============================] - 427s 2s/step - loss: 0.5236 - accuracy: 0.8116 - val_loss: 0.5584 - val_accuracy: 0.8125 - lr: 5.0000e-04\n",
      "Epoch 19/100\n",
      "267/267 [==============================] - ETA: 0s - loss: 0.5110 - accuracy: 0.8133\n",
      "Epoch 19: val_accuracy improved from 0.81250 to 0.81681, saving model to best.h5\n",
      "267/267 [==============================] - 454s 2s/step - loss: 0.5110 - accuracy: 0.8133 - val_loss: 0.5246 - val_accuracy: 0.8168 - lr: 5.0000e-04\n",
      "Epoch 20/100\n",
      "267/267 [==============================] - ETA: 0s - loss: 0.5140 - accuracy: 0.8121\n",
      "Epoch 20: val_accuracy did not improve from 0.81681\n",
      "267/267 [==============================] - 420s 2s/step - loss: 0.5140 - accuracy: 0.8121 - val_loss: 0.6757 - val_accuracy: 0.7522 - lr: 5.0000e-04\n",
      "Epoch 21/100\n",
      "267/267 [==============================] - ETA: 0s - loss: 0.4651 - accuracy: 0.8297\n",
      "Epoch 21: val_accuracy improved from 0.81681 to 0.84267, saving model to best.h5\n",
      "267/267 [==============================] - 419s 2s/step - loss: 0.4651 - accuracy: 0.8297 - val_loss: 0.4728 - val_accuracy: 0.8427 - lr: 5.0000e-04\n",
      "Epoch 22/100\n",
      "267/267 [==============================] - ETA: 0s - loss: 0.4546 - accuracy: 0.8360\n",
      "Epoch 22: val_accuracy did not improve from 0.84267\n",
      "267/267 [==============================] - 424s 2s/step - loss: 0.4546 - accuracy: 0.8360 - val_loss: 0.4696 - val_accuracy: 0.8254 - lr: 5.0000e-04\n",
      "Epoch 23/100\n",
      "267/267 [==============================] - ETA: 0s - loss: 0.4498 - accuracy: 0.8372\n",
      "Epoch 23: val_accuracy improved from 0.84267 to 0.84483, saving model to best.h5\n",
      "267/267 [==============================] - 420s 2s/step - loss: 0.4498 - accuracy: 0.8372 - val_loss: 0.4449 - val_accuracy: 0.8448 - lr: 5.0000e-04\n",
      "Epoch 24/100\n",
      "267/267 [==============================] - ETA: 0s - loss: 0.4205 - accuracy: 0.8388\n",
      "Epoch 24: val_accuracy improved from 0.84483 to 0.86638, saving model to best.h5\n",
      "267/267 [==============================] - 420s 2s/step - loss: 0.4205 - accuracy: 0.8388 - val_loss: 0.4259 - val_accuracy: 0.8664 - lr: 5.0000e-04\n",
      "Epoch 25/100\n",
      "267/267 [==============================] - ETA: 0s - loss: 0.4318 - accuracy: 0.8442\n",
      "Epoch 25: val_accuracy did not improve from 0.86638\n",
      "267/267 [==============================] - 423s 2s/step - loss: 0.4318 - accuracy: 0.8442 - val_loss: 0.4263 - val_accuracy: 0.8513 - lr: 5.0000e-04\n",
      "Epoch 26/100\n",
      "267/267 [==============================] - ETA: 0s - loss: 0.4043 - accuracy: 0.8459\n",
      "Epoch 26: val_accuracy did not improve from 0.86638\n",
      "267/267 [==============================] - 418s 2s/step - loss: 0.4043 - accuracy: 0.8459 - val_loss: 0.4128 - val_accuracy: 0.8513 - lr: 5.0000e-04\n"
     ]
    },
    {
     "name": "stdout",
     "output_type": "stream",
     "text": [
      "Epoch 27/100\n",
      "267/267 [==============================] - ETA: 0s - loss: 0.3979 - accuracy: 0.8487\n",
      "Epoch 27: val_accuracy did not improve from 0.86638\n",
      "\n",
      "Epoch 27: ReduceLROnPlateau reducing learning rate to 0.00020000000949949026.\n",
      "267/267 [==============================] - 418s 2s/step - loss: 0.3979 - accuracy: 0.8487 - val_loss: 0.4240 - val_accuracy: 0.8470 - lr: 5.0000e-04\n",
      "Epoch 28/100\n",
      "267/267 [==============================] - ETA: 0s - loss: 0.3094 - accuracy: 0.8853\n",
      "Epoch 28: val_accuracy improved from 0.86638 to 0.87931, saving model to best.h5\n",
      "267/267 [==============================] - 424s 2s/step - loss: 0.3094 - accuracy: 0.8853 - val_loss: 0.3685 - val_accuracy: 0.8793 - lr: 2.0000e-04\n",
      "Epoch 29/100\n",
      "267/267 [==============================] - ETA: 0s - loss: 0.2904 - accuracy: 0.8958\n",
      "Epoch 29: val_accuracy improved from 0.87931 to 0.88578, saving model to best.h5\n",
      "267/267 [==============================] - 387s 1s/step - loss: 0.2904 - accuracy: 0.8958 - val_loss: 0.3762 - val_accuracy: 0.8858 - lr: 2.0000e-04\n",
      "Epoch 30/100\n",
      "267/267 [==============================] - ETA: 0s - loss: 0.2885 - accuracy: 0.8937\n",
      "Epoch 30: val_accuracy did not improve from 0.88578\n",
      "267/267 [==============================] - 186s 694ms/step - loss: 0.2885 - accuracy: 0.8937 - val_loss: 0.3552 - val_accuracy: 0.8858 - lr: 2.0000e-04\n",
      "Epoch 31/100\n",
      "267/267 [==============================] - ETA: 0s - loss: 0.2873 - accuracy: 0.8940\n",
      "Epoch 31: val_accuracy improved from 0.88578 to 0.89440, saving model to best.h5\n",
      "267/267 [==============================] - 170s 637ms/step - loss: 0.2873 - accuracy: 0.8940 - val_loss: 0.3460 - val_accuracy: 0.8944 - lr: 2.0000e-04\n",
      "Epoch 32/100\n",
      "267/267 [==============================] - ETA: 0s - loss: 0.2714 - accuracy: 0.9001\n",
      "Epoch 32: val_accuracy did not improve from 0.89440\n",
      "267/267 [==============================] - 182s 683ms/step - loss: 0.2714 - accuracy: 0.9001 - val_loss: 0.3476 - val_accuracy: 0.8815 - lr: 2.0000e-04\n",
      "Epoch 33/100\n",
      "267/267 [==============================] - ETA: 0s - loss: 0.2677 - accuracy: 0.9019\n",
      "Epoch 33: val_accuracy did not improve from 0.89440\n",
      "267/267 [==============================] - 170s 634ms/step - loss: 0.2677 - accuracy: 0.9019 - val_loss: 0.3757 - val_accuracy: 0.8815 - lr: 2.0000e-04\n",
      "Epoch 34/100\n",
      "267/267 [==============================] - ETA: 0s - loss: 0.2714 - accuracy: 0.8947\n",
      "Epoch 34: val_accuracy improved from 0.89440 to 0.90733, saving model to best.h5\n",
      "267/267 [==============================] - 170s 636ms/step - loss: 0.2714 - accuracy: 0.8947 - val_loss: 0.3189 - val_accuracy: 0.9073 - lr: 2.0000e-04\n",
      "Epoch 35/100\n",
      "267/267 [==============================] - ETA: 0s - loss: 0.2729 - accuracy: 0.9008\n",
      "Epoch 35: val_accuracy did not improve from 0.90733\n",
      "267/267 [==============================] - 170s 636ms/step - loss: 0.2729 - accuracy: 0.9008 - val_loss: 0.3043 - val_accuracy: 0.8987 - lr: 2.0000e-04\n",
      "Epoch 36/100\n",
      "267/267 [==============================] - ETA: 0s - loss: 0.2740 - accuracy: 0.8996\n",
      "Epoch 36: val_accuracy did not improve from 0.90733\n",
      "267/267 [==============================] - 176s 657ms/step - loss: 0.2740 - accuracy: 0.8996 - val_loss: 0.3446 - val_accuracy: 0.8858 - lr: 2.0000e-04\n",
      "Epoch 37/100\n",
      "267/267 [==============================] - ETA: 0s - loss: 0.2544 - accuracy: 0.9001\n",
      "Epoch 37: val_accuracy did not improve from 0.90733\n",
      "\n",
      "Epoch 37: ReduceLROnPlateau reducing learning rate to 8.000000379979611e-05.\n",
      "267/267 [==============================] - 174s 651ms/step - loss: 0.2544 - accuracy: 0.9001 - val_loss: 0.3674 - val_accuracy: 0.8944 - lr: 2.0000e-04\n",
      "Epoch 38/100\n",
      "267/267 [==============================] - ETA: 0s - loss: 0.2304 - accuracy: 0.9167\n",
      "Epoch 38: val_accuracy did not improve from 0.90733\n",
      "267/267 [==============================] - 171s 640ms/step - loss: 0.2304 - accuracy: 0.9167 - val_loss: 0.3578 - val_accuracy: 0.9009 - lr: 8.0000e-05\n",
      "Epoch 39/100\n",
      "267/267 [==============================] - ETA: 0s - loss: 0.2134 - accuracy: 0.9200\n",
      "Epoch 39: val_accuracy did not improve from 0.90733\n",
      "267/267 [==============================] - 172s 642ms/step - loss: 0.2134 - accuracy: 0.9200 - val_loss: 0.3703 - val_accuracy: 0.8750 - lr: 8.0000e-05\n",
      "Epoch 40/100\n",
      "267/267 [==============================] - ETA: 0s - loss: 0.2104 - accuracy: 0.9247\n",
      "Epoch 40: val_accuracy improved from 0.90733 to 0.91595, saving model to best.h5\n",
      "267/267 [==============================] - 184s 688ms/step - loss: 0.2104 - accuracy: 0.9247 - val_loss: 0.2768 - val_accuracy: 0.9159 - lr: 8.0000e-05\n",
      "Epoch 41/100\n",
      "267/267 [==============================] - ETA: 0s - loss: 0.2112 - accuracy: 0.9195\n",
      "Epoch 41: val_accuracy improved from 0.91595 to 0.92457, saving model to best.h5\n",
      "267/267 [==============================] - 170s 637ms/step - loss: 0.2112 - accuracy: 0.9195 - val_loss: 0.3232 - val_accuracy: 0.9246 - lr: 8.0000e-05\n",
      "Epoch 42/100\n",
      "267/267 [==============================] - ETA: 0s - loss: 0.2182 - accuracy: 0.9170\n",
      "Epoch 42: val_accuracy did not improve from 0.92457\n",
      "267/267 [==============================] - 184s 687ms/step - loss: 0.2182 - accuracy: 0.9170 - val_loss: 0.2906 - val_accuracy: 0.9116 - lr: 8.0000e-05\n",
      "Epoch 43/100\n",
      "267/267 [==============================] - ETA: 0s - loss: 0.2032 - accuracy: 0.9205\n",
      "Epoch 43: val_accuracy did not improve from 0.92457\n",
      "267/267 [==============================] - 183s 684ms/step - loss: 0.2032 - accuracy: 0.9205 - val_loss: 0.3027 - val_accuracy: 0.9116 - lr: 8.0000e-05\n",
      "Epoch 44/100\n",
      "267/267 [==============================] - ETA: 0s - loss: 0.2133 - accuracy: 0.9224\n",
      "Epoch 44: val_accuracy did not improve from 0.92457\n",
      "\n",
      "Epoch 44: ReduceLROnPlateau reducing learning rate to 3.200000210199505e-05.\n",
      "267/267 [==============================] - 180s 674ms/step - loss: 0.2133 - accuracy: 0.9224 - val_loss: 0.3127 - val_accuracy: 0.9095 - lr: 8.0000e-05\n",
      "Epoch 45/100\n",
      "267/267 [==============================] - ETA: 0s - loss: 0.1923 - accuracy: 0.9274\n",
      "Epoch 45: val_accuracy did not improve from 0.92457\n",
      "267/267 [==============================] - 190s 713ms/step - loss: 0.1923 - accuracy: 0.9274 - val_loss: 0.3088 - val_accuracy: 0.9073 - lr: 3.2000e-05\n",
      "Epoch 46/100\n",
      "267/267 [==============================] - ETA: 0s - loss: 0.1923 - accuracy: 0.9285\n",
      "Epoch 46: val_accuracy did not improve from 0.92457\n",
      "267/267 [==============================] - 188s 705ms/step - loss: 0.1923 - accuracy: 0.9285 - val_loss: 0.2889 - val_accuracy: 0.9159 - lr: 3.2000e-05\n",
      "Epoch 47/100\n",
      "267/267 [==============================] - ETA: 0s - loss: 0.1843 - accuracy: 0.9301\n",
      "Epoch 47: val_accuracy did not improve from 0.92457\n",
      "\n",
      "Epoch 47: ReduceLROnPlateau reducing learning rate to 1.280000142287463e-05.\n",
      "267/267 [==============================] - 177s 662ms/step - loss: 0.1843 - accuracy: 0.9301 - val_loss: 0.2942 - val_accuracy: 0.9030 - lr: 3.2000e-05\n",
      "Epoch 48/100\n",
      "267/267 [==============================] - ETA: 0s - loss: 0.1892 - accuracy: 0.9303\n",
      "Epoch 48: val_accuracy did not improve from 0.92457\n",
      "267/267 [==============================] - 179s 672ms/step - loss: 0.1892 - accuracy: 0.9303 - val_loss: 0.3072 - val_accuracy: 0.9159 - lr: 1.2800e-05\n",
      "Epoch 49/100\n",
      "267/267 [==============================] - ETA: 0s - loss: 0.1888 - accuracy: 0.9285\n",
      "Epoch 49: val_accuracy improved from 0.92457 to 0.92672, saving model to best.h5\n",
      "267/267 [==============================] - 181s 678ms/step - loss: 0.1888 - accuracy: 0.9285 - val_loss: 0.2943 - val_accuracy: 0.9267 - lr: 1.2800e-05\n",
      "Epoch 50/100\n",
      "267/267 [==============================] - ETA: 0s - loss: 0.1854 - accuracy: 0.9324\n",
      "Epoch 50: val_accuracy did not improve from 0.92672\n",
      "267/267 [==============================] - 180s 674ms/step - loss: 0.1854 - accuracy: 0.9324 - val_loss: 0.3551 - val_accuracy: 0.9116 - lr: 1.2800e-05\n",
      "Epoch 51/100\n",
      "267/267 [==============================] - ETA: 0s - loss: 0.1798 - accuracy: 0.9357\n",
      "Epoch 51: val_accuracy did not improve from 0.92672\n",
      "Restoring model weights from the end of the best epoch: 41.\n",
      "267/267 [==============================] - 182s 680ms/step - loss: 0.1798 - accuracy: 0.9357 - val_loss: 0.3247 - val_accuracy: 0.9073 - lr: 1.2800e-05\n",
      "Epoch 51: early stopping\n"
     ]
    }
   ],
   "source": [
    "history = model.fit(train_gen,\n",
    "          epochs = 100,\n",
    "          steps_per_epoch=train_gen.samples // batch_size,\n",
    "          validation_data = validation_gen,\n",
    "          validation_steps = validation_gen.samples // batch_size,\n",
    "          callbacks=callback)"
   ]
  },
  {
   "cell_type": "code",
   "execution_count": 11,
   "id": "21a6b690",
   "metadata": {},
   "outputs": [],
   "source": [
    "model = models.load_model('best.h5')"
   ]
  },
  {
   "cell_type": "code",
   "execution_count": 12,
   "id": "8a73c69a",
   "metadata": {},
   "outputs": [
    {
     "name": "stdout",
     "output_type": "stream",
     "text": [
      "794/794 [==============================] - 13s 17ms/step - loss: 157.3415 - accuracy: 0.0428\n"
     ]
    },
    {
     "data": {
      "text/plain": [
       "[157.34153747558594, 0.04282115772366524]"
      ]
     },
     "execution_count": 12,
     "metadata": {},
     "output_type": "execute_result"
    }
   ],
   "source": [
    "model.evaluate(test_gen)"
   ]
  },
  {
   "cell_type": "code",
   "execution_count": 13,
   "id": "fac2994c",
   "metadata": {},
   "outputs": [
    {
     "data": {
      "image/png": "[encoded data removed]",
      "text/plain": [
       "<Figure size 432x288 with 1 Axes>"
      ]
     },
     "metadata": {
      "needs_background": "light"
     },
     "output_type": "display_data"
    },
    {
     "data": {
      "image/png": "[encoded data removed]",
      "text/plain": [
       "<Figure size 432x288 with 1 Axes>"
      ]
     },
     "metadata": {
      "needs_background": "light"
     },
     "output_type": "display_data"
    }
   ],
   "source": [
    "# summarize history for accuracy\n",
    "plt.plot(history.history['accuracy'])\n",
    "plt.plot(history.history['val_accuracy'])\n",
    "plt.title('model accuracy')\n",
    "plt.ylabel('accuracy')\n",
    "plt.xlabel('epoch')\n",
    "plt.legend(['train', 'validation'], loc='upper left')\n",
    "plt.show()\n",
    "# summarize history for loss\n",
    "plt.plot(history.history['loss'])\n",
    "plt.plot(history.history['val_loss'])\n",
    "plt.title('model loss')\n",
    "plt.ylabel('loss')\n",
    "plt.xlabel('epoch')\n",
    "plt.legend(['train', 'validation'], loc='upper left')\n",
    "plt.show()"
   ]
  },
  {
   "cell_type": "code",
   "execution_count": 14,
   "id": "e0a9e057",
   "metadata": {},
   "outputs": [],
   "source": [
    "from sklearn.metrics import classification_report, confusion_matrix"
   ]
  },
  {
   "cell_type": "code",
   "execution_count": 15,
   "id": "8384c673",
   "metadata": {},
   "outputs": [
    {
     "name": "stderr",
     "output_type": "stream",
     "text": [
      "C:\\Users\\farhe\\AppData\\Local\\Temp\\ipykernel_4708\\3071142573.py:1: UserWarning: `Model.predict_generator` is deprecated and will be removed in a future version. Please use `Model.predict`, which supports generators.\n",
      "  Y_pred = model.predict_generator( validation_gen, validation_gen.samples // batch_size+1)\n"
     ]
    },
    {
     "name": "stdout",
     "output_type": "stream",
     "text": [
      "Confusion Matrix\n",
      "[[16  0  0  0  1  0  9  0  0  0  0  0]\n",
      " [ 0 35  3  0  0  0  0  0  0  0  1  0]\n",
      " [ 0  0 25  1  1  0  0  0  0  0  1  0]\n",
      " [ 0  0  0 56  0  0  0  0  2  3  0  0]\n",
      " [ 0  0  0  0 22  0  0  0  0  0  0  0]\n",
      " [ 0  0  0  0  0 46  0  0  0  0  0  1]\n",
      " [ 4  0  0  0  0  0 61  0  0  0  0  0]\n",
      " [ 0  0  0  0  0  1  0 21  0  0  0  0]\n",
      " [ 0  0  0  1  1  0  0  0 49  0  0  0]\n",
      " [ 0  0  0  0  0  0  0  0  2 21  0  0]\n",
      " [ 0  0  0  0  0  1  0  0  0  1 47  0]\n",
      " [ 0  1  0  0  1  0  1  0  0  0  0 35]]\n"
     ]
    }
   ],
   "source": [
    "Y_pred = model.predict_generator( validation_gen, validation_gen.samples // batch_size+1)\n",
    "y_pred = np.argmax(Y_pred, axis=1)\n",
    "print('Confusion Matrix')\n",
    "print(confusion_matrix(validation_gen.classes, y_pred))"
   ]
  },
  {
   "cell_type": "code",
   "execution_count": 16,
   "id": "4dc9f17e",
   "metadata": {},
   "outputs": [
    {
     "name": "stdout",
     "output_type": "stream",
     "text": [
      "Classification Report\n",
      "                           precision    recall  f1-score   support\n",
      "\n",
      "              Black-grass       0.80      0.62      0.70        26\n",
      "                 Charlock       0.97      0.90      0.93        39\n",
      "                 Cleavers       0.89      0.89      0.89        28\n",
      "         Common Chickweed       0.97      0.92      0.94        61\n",
      "             Common wheat       0.85      1.00      0.92        22\n",
      "                  Fat Hen       0.96      0.98      0.97        47\n",
      "         Loose Silky-bent       0.86      0.94      0.90        65\n",
      "                    Maize       1.00      0.95      0.98        22\n",
      "        Scentless Mayweed       0.92      0.96      0.94        51\n",
      "          Shepherds Purse       0.84      0.91      0.87        23\n",
      "Small-flowered Cranesbill       0.96      0.96      0.96        49\n",
      "               Sugar beet       0.97      0.92      0.95        38\n",
      "\n",
      "                 accuracy                           0.92       471\n",
      "                macro avg       0.92      0.91      0.91       471\n",
      "             weighted avg       0.92      0.92      0.92       471\n",
      "\n"
     ]
    }
   ],
   "source": [
    "print('Classification Report')\n",
    "print(classification_report(validation_gen.classes, y_pred, target_names=CATEGORIES))"
   ]
  }
 ],
 "metadata": {
  "kernelspec": {
   "display_name": "Python 3 (ipykernel)",
   "language": "python",
   "name": "python3"
  },
  "language_info": {
   "codemirror_mode": {
    "name": "ipython",
    "version": 3
   },
   "file_extension": ".py",
   "mimetype": "text/x-python",
   "name": "python",
   "nbconvert_exporter": "python",
   "pygments_lexer": "ipython3",
   "version": "3.9.13"
  }
 },
 "nbformat": 4,
 "nbformat_minor": 5
}
