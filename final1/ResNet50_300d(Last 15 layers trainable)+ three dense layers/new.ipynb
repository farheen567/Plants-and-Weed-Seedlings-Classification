{
 "cells": [
  {
   "cell_type": "code",
   "execution_count": 1,
   "id": "ae5fcdd1",
   "metadata": {},
   "outputs": [],
   "source": [
    "import matplotlib.pyplot as plt\n",
    "import numpy as np\n",
    "import os\n",
    "import PIL\n",
    "import tensorflow as tf\n",
    "from tensorflow import keras\n",
    "from tensorflow.keras import layers\n",
    "from tensorflow.keras.layers import Dense, Flatten\n",
    "from tensorflow.keras.applications import ResNet50\n",
    "from tensorflow.keras.models import Sequential\n",
    "from tensorflow.keras.optimizers import Adam\n",
    "from tensorflow.keras.applications.resnet50 import preprocess_input\n",
    "from keras import models"
   ]
  },
  {
   "cell_type": "code",
   "execution_count": 2,
   "id": "e58a16c2",
   "metadata": {},
   "outputs": [],
   "source": [
    "CATEGORIES = ['Black-grass',\n",
    "          'Charlock',\n",
    "          'Cleavers',\n",
    "          'Common Chickweed',\n",
    "          'Common wheat',\n",
    "          'Fat Hen',\n",
    "          'Loose Silky-bent',\n",
    "          'Maize',\n",
    "          'Scentless Mayweed',\n",
    "          'Shepherds Purse',\n",
    "          'Small-flowered Cranesbill',\n",
    "          'Sugar beet']\n",
    "\n",
    "IMG_SIZE=300\n",
    "\n",
    "DATADIR  = 'D:/project/dataset/train'\n",
    "DATADIR_TEST  = 'D:/project/dataset/test'"
   ]
  },
  {
   "cell_type": "code",
   "execution_count": 3,
   "id": "84548650",
   "metadata": {},
   "outputs": [
    {
     "name": "stdout",
     "output_type": "stream",
     "text": [
      "Found 4279 images belonging to 12 classes.\n",
      "Found 471 images belonging to 12 classes.\n",
      "Found 794 images belonging to 1 classes.\n"
     ]
    }
   ],
   "source": [
    "TRAIN_DATA_DIR = DATADIR\n",
    "batch_size = 16\n",
    "# create data generators\n",
    "def data_generators():\n",
    "\n",
    "    # apply random transformations on training data\n",
    "    train_data_generator = tf.keras.preprocessing.image.ImageDataGenerator(\n",
    "        preprocessing_function=preprocess_input,\n",
    "        rotation_range=180,\n",
    "        width_shift_range=0.3,\n",
    "        height_shift_range=0.3,\n",
    "        zoom_range=0.3,\n",
    "        horizontal_flip=True,\n",
    "        vertical_flip=True,\n",
    "        validation_split = 0.1,\n",
    "    )\n",
    "    test_data_generator = tf.keras.preprocessing.image.ImageDataGenerator(\n",
    "      preprocessing_function=preprocess_input)\n",
    "    \n",
    "    train_gen = train_data_generator.flow_from_directory(\n",
    "        directory = TRAIN_DATA_DIR,\n",
    "        target_size = (IMG_SIZE, IMG_SIZE),\n",
    "        color_mode = 'rgb',\n",
    "        class_mode = \"categorical\",\n",
    "        batch_size = batch_size,\n",
    "        subset = 'training',\n",
    "    )\n",
    "\n",
    "    # define validation data generator\n",
    "    validation_gen = train_data_generator.flow_from_directory(\n",
    "        directory = TRAIN_DATA_DIR,\n",
    "        color_mode = 'rgb',\n",
    "        class_mode = \"categorical\",\n",
    "        target_size = (IMG_SIZE, IMG_SIZE),\n",
    "        batch_size = batch_size,\n",
    "        subset = 'validation',\n",
    "        shuffle=False\n",
    "    )\n",
    "    test_gen = test_data_generator.flow_from_directory(\n",
    "        directory= 'D:/project/dataset',\n",
    "        classes=['test'],\n",
    "        target_size=(IMG_SIZE, IMG_SIZE),\n",
    "        batch_size=1,\n",
    "        color_mode='rgb',\n",
    "        shuffle=False,\n",
    "        class_mode='categorical')\n",
    "    return train_gen, validation_gen, test_gen\n",
    "train_gen, validation_gen, test_gen = data_generators()"
   ]
  },
  {
   "cell_type": "code",
   "execution_count": 4,
   "id": "4ac5a2a6",
   "metadata": {},
   "outputs": [
    {
     "name": "stdout",
     "output_type": "stream",
     "text": [
      "{'Black-grass': 0, 'Charlock': 1, 'Cleavers': 2, 'Common Chickweed': 3, 'Common wheat': 4, 'Fat Hen': 5, 'Loose Silky-bent': 6, 'Maize': 7, 'Scentless Mayweed': 8, 'Shepherds Purse': 9, 'Small-flowered Cranesbill': 10, 'Sugar beet': 11}\n"
     ]
    }
   ],
   "source": [
    "print(train_gen.class_indices)"
   ]
  },
  {
   "cell_type": "code",
   "execution_count": 5,
   "id": "136ff6fe",
   "metadata": {},
   "outputs": [],
   "source": [
    "resnet_model = Sequential()\n",
    "pretrained_model=ResNet50(include_top = False, pooling = 'avg', input_shape=(IMG_SIZE, IMG_SIZE, 3), weights = 'imagenet')"
   ]
  },
  {
   "cell_type": "code",
   "execution_count": 6,
   "id": "2059467e",
   "metadata": {},
   "outputs": [],
   "source": [
    "for layer in pretrained_model.layers[:160]:\n",
    "        layer.trainable = False\n",
    "for layer in pretrained_model.layers[160:]:\n",
    "        layer.trainable = True\n",
    "resnet_model = Sequential()\n",
    "resnet_model.add(pretrained_model)\n",
    "resnet_model.add(Flatten())\n",
    "resnet_model.add(Dense(1024,\"relu\"))\n",
    "resnet_model.add(Dense(512,\"relu\"))\n",
    "resnet_model.add(Dense(128,\"relu\"))\n",
    "resnet_model.add(Dense(12, activation ='softmax'))"
   ]
  },
  {
   "cell_type": "code",
   "execution_count": 7,
   "id": "c592319e",
   "metadata": {},
   "outputs": [
    {
     "name": "stdout",
     "output_type": "stream",
     "text": [
      "Model: \"sequential_1\"\n",
      "_________________________________________________________________\n",
      " Layer (type)                Output Shape              Param #   \n",
      "=================================================================\n",
      " resnet50 (Functional)       (None, 2048)              23587712  \n",
      "                                                                 \n",
      " flatten (Flatten)           (None, 2048)              0         \n",
      "                                                                 \n",
      " dense (Dense)               (None, 1024)              2098176   \n",
      "                                                                 \n",
      " dense_1 (Dense)             (None, 512)               524800    \n",
      "                                                                 \n",
      " dense_2 (Dense)             (None, 128)               65664     \n",
      "                                                                 \n",
      " dense_3 (Dense)             (None, 12)                1548      \n",
      "                                                                 \n",
      "=================================================================\n",
      "Total params: 26,277,900\n",
      "Trainable params: 8,210,572\n",
      "Non-trainable params: 18,067,328\n",
      "_________________________________________________________________\n"
     ]
    }
   ],
   "source": [
    "resnet_model.summary()"
   ]
  },
  {
   "cell_type": "code",
   "execution_count": 8,
   "id": "8c3bc790",
   "metadata": {},
   "outputs": [],
   "source": [
    "resnet_model.compile(optimizer='Adam',loss='categorical_crossentropy',metrics=['accuracy'])"
   ]
  },
  {
   "cell_type": "code",
   "execution_count": 9,
   "id": "b5cbe143",
   "metadata": {},
   "outputs": [],
   "source": [
    "# save best model regularly\n",
    "save_best_model = tf.keras.callbacks.ModelCheckpoint(filepath = 'best.h5',monitor = 'val_accuracy', \n",
    "                                                     save_best_only = True, verbose = 1,mode='max')\n",
    "# reduce learning rate when it stops decreasing\n",
    "reduce_lr = tf.keras.callbacks.ReduceLROnPlateau(monitor = 'val_accuracy', factor = 0.4,patience = 3,\n",
    "                                                 min_lr = 1e-10, verbose = 1, cooldown = 1)\n",
    "# stop training early if no further improvement\n",
    "early_stopping = tf.keras.callbacks.EarlyStopping(monitor = 'val_accuracy', min_delta = 1e-2, patience = 10, verbose = 1,\n",
    "        mode = 'max', baseline = None, restore_best_weights = True)\n",
    "callback=[save_best_model, reduce_lr, early_stopping]"
   ]
  },
  {
   "cell_type": "code",
   "execution_count": 10,
   "id": "59ddd9d2",
   "metadata": {},
   "outputs": [
    {
     "name": "stdout",
     "output_type": "stream",
     "text": [
      "Epoch 1/100\n",
      "267/267 [==============================] - ETA: 0s - loss: 1.0411 - accuracy: 0.6531\n",
      "Epoch 1: val_accuracy improved from -inf to 0.75431, saving model to best.h5\n",
      "267/267 [==============================] - 497s 2s/step - loss: 1.0411 - accuracy: 0.6531 - val_loss: 0.9358 - val_accuracy: 0.7543 - lr: 0.0010\n",
      "Epoch 2/100\n",
      "267/267 [==============================] - ETA: 0s - loss: 0.5431 - accuracy: 0.8201\n",
      "Epoch 2: val_accuracy improved from 0.75431 to 0.79957, saving model to best.h5\n",
      "267/267 [==============================] - 509s 2s/step - loss: 0.5431 - accuracy: 0.8201 - val_loss: 0.5945 - val_accuracy: 0.7996 - lr: 0.0010\n",
      "Epoch 3/100\n",
      "267/267 [==============================] - ETA: 0s - loss: 0.4589 - accuracy: 0.8496\n",
      "Epoch 3: val_accuracy improved from 0.79957 to 0.82543, saving model to best.h5\n",
      "267/267 [==============================] - 481s 2s/step - loss: 0.4589 - accuracy: 0.8496 - val_loss: 0.5108 - val_accuracy: 0.8254 - lr: 0.0010\n",
      "Epoch 4/100\n",
      "267/267 [==============================] - ETA: 0s - loss: 0.4081 - accuracy: 0.8555\n",
      "Epoch 4: val_accuracy improved from 0.82543 to 0.87931, saving model to best.h5\n",
      "267/267 [==============================] - 494s 2s/step - loss: 0.4081 - accuracy: 0.8555 - val_loss: 0.3495 - val_accuracy: 0.8793 - lr: 0.0010\n",
      "Epoch 5/100\n",
      "267/267 [==============================] - ETA: 0s - loss: 0.3339 - accuracy: 0.8874\n",
      "Epoch 5: val_accuracy did not improve from 0.87931\n",
      "267/267 [==============================] - 478s 2s/step - loss: 0.3339 - accuracy: 0.8874 - val_loss: 0.3841 - val_accuracy: 0.8750 - lr: 0.0010\n",
      "Epoch 6/100\n",
      "267/267 [==============================] - ETA: 0s - loss: 0.3249 - accuracy: 0.8886\n",
      "Epoch 6: val_accuracy did not improve from 0.87931\n",
      "267/267 [==============================] - 466s 2s/step - loss: 0.3249 - accuracy: 0.8886 - val_loss: 0.4720 - val_accuracy: 0.8362 - lr: 0.0010\n",
      "Epoch 7/100\n",
      "267/267 [==============================] - ETA: 0s - loss: 0.2737 - accuracy: 0.9071\n",
      "Epoch 7: val_accuracy improved from 0.87931 to 0.89871, saving model to best.h5\n",
      "267/267 [==============================] - 466s 2s/step - loss: 0.2737 - accuracy: 0.9071 - val_loss: 0.3095 - val_accuracy: 0.8987 - lr: 0.0010\n",
      "Epoch 8/100\n",
      "267/267 [==============================] - ETA: 0s - loss: 0.2695 - accuracy: 0.9066\n",
      "Epoch 8: val_accuracy improved from 0.89871 to 0.90517, saving model to best.h5\n",
      "267/267 [==============================] - 462s 2s/step - loss: 0.2695 - accuracy: 0.9066 - val_loss: 0.3341 - val_accuracy: 0.9052 - lr: 0.0010\n",
      "Epoch 9/100\n",
      "267/267 [==============================] - ETA: 0s - loss: 0.2836 - accuracy: 0.9043\n",
      "Epoch 9: val_accuracy did not improve from 0.90517\n",
      "267/267 [==============================] - 465s 2s/step - loss: 0.2836 - accuracy: 0.9043 - val_loss: 0.3097 - val_accuracy: 0.8836 - lr: 0.0010\n",
      "Epoch 10/100\n",
      "267/267 [==============================] - ETA: 0s - loss: 0.2451 - accuracy: 0.9214\n",
      "Epoch 10: val_accuracy did not improve from 0.90517\n",
      "267/267 [==============================] - 459s 2s/step - loss: 0.2451 - accuracy: 0.9214 - val_loss: 0.2731 - val_accuracy: 0.8987 - lr: 0.0010\n",
      "Epoch 11/100\n",
      "267/267 [==============================] - ETA: 0s - loss: 0.2300 - accuracy: 0.9212\n",
      "Epoch 11: val_accuracy improved from 0.90517 to 0.92026, saving model to best.h5\n",
      "267/267 [==============================] - 445s 2s/step - loss: 0.2300 - accuracy: 0.9212 - val_loss: 0.2828 - val_accuracy: 0.9203 - lr: 0.0010\n",
      "Epoch 12/100\n",
      "267/267 [==============================] - ETA: 0s - loss: 0.2168 - accuracy: 0.9252\n",
      "Epoch 12: val_accuracy did not improve from 0.92026\n",
      "267/267 [==============================] - 445s 2s/step - loss: 0.2168 - accuracy: 0.9252 - val_loss: 0.3786 - val_accuracy: 0.8901 - lr: 0.0010\n",
      "Epoch 13/100\n",
      "267/267 [==============================] - ETA: 0s - loss: 0.2061 - accuracy: 0.9247\n",
      "Epoch 13: val_accuracy did not improve from 0.92026\n",
      "267/267 [==============================] - 446s 2s/step - loss: 0.2061 - accuracy: 0.9247 - val_loss: 0.2527 - val_accuracy: 0.9138 - lr: 0.0010\n",
      "Epoch 14/100\n",
      "267/267 [==============================] - ETA: 0s - loss: 0.1927 - accuracy: 0.9315\n",
      "Epoch 14: val_accuracy improved from 0.92026 to 0.92888, saving model to best.h5\n",
      "267/267 [==============================] - 445s 2s/step - loss: 0.1927 - accuracy: 0.9315 - val_loss: 0.2287 - val_accuracy: 0.9289 - lr: 0.0010\n",
      "Epoch 15/100\n",
      "267/267 [==============================] - ETA: 0s - loss: 0.1851 - accuracy: 0.9320\n",
      "Epoch 15: val_accuracy did not improve from 0.92888\n",
      "267/267 [==============================] - 445s 2s/step - loss: 0.1851 - accuracy: 0.9320 - val_loss: 0.2565 - val_accuracy: 0.9224 - lr: 0.0010\n",
      "Epoch 16/100\n",
      "267/267 [==============================] - ETA: 0s - loss: 0.1811 - accuracy: 0.9371\n",
      "Epoch 16: val_accuracy did not improve from 0.92888\n",
      "267/267 [==============================] - 446s 2s/step - loss: 0.1811 - accuracy: 0.9371 - val_loss: 0.2982 - val_accuracy: 0.9052 - lr: 0.0010\n",
      "Epoch 17/100\n",
      "267/267 [==============================] - ETA: 0s - loss: 0.1884 - accuracy: 0.9392\n",
      "Epoch 17: val_accuracy did not improve from 0.92888\n",
      "\n",
      "Epoch 17: ReduceLROnPlateau reducing learning rate to 0.0004000000189989805.\n",
      "267/267 [==============================] - 445s 2s/step - loss: 0.1884 - accuracy: 0.9392 - val_loss: 0.2638 - val_accuracy: 0.9138 - lr: 0.0010\n",
      "Epoch 18/100\n",
      "267/267 [==============================] - ETA: 0s - loss: 0.1267 - accuracy: 0.9545\n",
      "Epoch 18: val_accuracy did not improve from 0.92888\n",
      "267/267 [==============================] - 449s 2s/step - loss: 0.1267 - accuracy: 0.9545 - val_loss: 0.2121 - val_accuracy: 0.9289 - lr: 4.0000e-04\n",
      "Epoch 19/100\n",
      "267/267 [==============================] - ETA: 0s - loss: 0.1139 - accuracy: 0.9573\n",
      "Epoch 19: val_accuracy improved from 0.92888 to 0.94397, saving model to best.h5\n",
      "267/267 [==============================] - 471s 2s/step - loss: 0.1139 - accuracy: 0.9573 - val_loss: 0.2176 - val_accuracy: 0.9440 - lr: 4.0000e-04\n",
      "Epoch 20/100\n",
      "267/267 [==============================] - ETA: 0s - loss: 0.1061 - accuracy: 0.9597\n",
      "Epoch 20: val_accuracy did not improve from 0.94397\n",
      "267/267 [==============================] - 470s 2s/step - loss: 0.1061 - accuracy: 0.9597 - val_loss: 0.2641 - val_accuracy: 0.9289 - lr: 4.0000e-04\n",
      "Epoch 21/100\n",
      "267/267 [==============================] - ETA: 0s - loss: 0.1024 - accuracy: 0.9634\n",
      "Epoch 21: val_accuracy did not improve from 0.94397\n",
      "267/267 [==============================] - 471s 2s/step - loss: 0.1024 - accuracy: 0.9634 - val_loss: 0.2584 - val_accuracy: 0.9289 - lr: 4.0000e-04\n",
      "Epoch 22/100\n",
      "267/267 [==============================] - ETA: 0s - loss: 0.1041 - accuracy: 0.9627\n",
      "Epoch 22: val_accuracy did not improve from 0.94397\n",
      "\n",
      "Epoch 22: ReduceLROnPlateau reducing learning rate to 0.00016000000759959222.\n",
      "267/267 [==============================] - 468s 2s/step - loss: 0.1041 - accuracy: 0.9627 - val_loss: 0.2020 - val_accuracy: 0.9397 - lr: 4.0000e-04\n",
      "Epoch 23/100\n",
      "267/267 [==============================] - ETA: 0s - loss: 0.0923 - accuracy: 0.9655\n",
      "Epoch 23: val_accuracy did not improve from 0.94397\n",
      "267/267 [==============================] - 484s 2s/step - loss: 0.0923 - accuracy: 0.9655 - val_loss: 0.2145 - val_accuracy: 0.9418 - lr: 1.6000e-04\n",
      "Epoch 24/100\n",
      "267/267 [==============================] - ETA: 0s - loss: 0.0856 - accuracy: 0.9716\n",
      "Epoch 24: val_accuracy did not improve from 0.94397\n",
      "267/267 [==============================] - 458s 2s/step - loss: 0.0856 - accuracy: 0.9716 - val_loss: 0.2258 - val_accuracy: 0.9353 - lr: 1.6000e-04\n",
      "Epoch 25/100\n",
      "267/267 [==============================] - ETA: 0s - loss: 0.0796 - accuracy: 0.9721\n",
      "Epoch 25: val_accuracy did not improve from 0.94397\n",
      "\n",
      "Epoch 25: ReduceLROnPlateau reducing learning rate to 6.40000042039901e-05.\n",
      "267/267 [==============================] - 467s 2s/step - loss: 0.0796 - accuracy: 0.9721 - val_loss: 0.2030 - val_accuracy: 0.9440 - lr: 1.6000e-04\n",
      "Epoch 26/100\n",
      "267/267 [==============================] - ETA: 0s - loss: 0.0824 - accuracy: 0.9695\n",
      "Epoch 26: val_accuracy improved from 0.94397 to 0.94612, saving model to best.h5\n",
      "267/267 [==============================] - 497s 2s/step - loss: 0.0824 - accuracy: 0.9695 - val_loss: 0.1873 - val_accuracy: 0.9461 - lr: 6.4000e-05\n"
     ]
    },
    {
     "name": "stdout",
     "output_type": "stream",
     "text": [
      "Epoch 27/100\n",
      "267/267 [==============================] - ETA: 0s - loss: 0.0723 - accuracy: 0.9740\n",
      "Epoch 27: val_accuracy did not improve from 0.94612\n",
      "267/267 [==============================] - 497s 2s/step - loss: 0.0723 - accuracy: 0.9740 - val_loss: 0.2243 - val_accuracy: 0.9375 - lr: 6.4000e-05\n",
      "Epoch 28/100\n",
      "267/267 [==============================] - ETA: 0s - loss: 0.0707 - accuracy: 0.9761\n",
      "Epoch 28: val_accuracy did not improve from 0.94612\n",
      "267/267 [==============================] - 470s 2s/step - loss: 0.0707 - accuracy: 0.9761 - val_loss: 0.2114 - val_accuracy: 0.9375 - lr: 6.4000e-05\n",
      "Epoch 29/100\n",
      "267/267 [==============================] - ETA: 0s - loss: 0.0683 - accuracy: 0.9763\n",
      "Epoch 29: val_accuracy improved from 0.94612 to 0.94828, saving model to best.h5\n",
      "Restoring model weights from the end of the best epoch: 19.\n",
      "267/267 [==============================] - 449s 2s/step - loss: 0.0683 - accuracy: 0.9763 - val_loss: 0.2065 - val_accuracy: 0.9483 - lr: 6.4000e-05\n",
      "Epoch 29: early stopping\n"
     ]
    }
   ],
   "source": [
    "history = resnet_model.fit(train_gen,\n",
    "          epochs = 100,\n",
    "          steps_per_epoch=train_gen.samples // batch_size,\n",
    "          validation_data = validation_gen,\n",
    "          validation_steps = validation_gen.samples // batch_size,\n",
    "          callbacks=callback)"
   ]
  },
  {
   "cell_type": "code",
   "execution_count": 11,
   "id": "699fbe62",
   "metadata": {},
   "outputs": [],
   "source": [
    "model = models.load_model('best.h5')"
   ]
  },
  {
   "cell_type": "code",
   "execution_count": 12,
   "id": "831a5d06",
   "metadata": {},
   "outputs": [
    {
     "name": "stdout",
     "output_type": "stream",
     "text": [
      "794/794 [==============================] - 88s 111ms/step - loss: 265.1017 - accuracy: 0.0554\n"
     ]
    },
    {
     "data": {
      "text/plain": [
       "[265.10174560546875, 0.05541561543941498]"
      ]
     },
     "execution_count": 12,
     "metadata": {},
     "output_type": "execute_result"
    }
   ],
   "source": [
    "model.evaluate(test_gen)"
   ]
  },
  {
   "cell_type": "code",
   "execution_count": 13,
   "id": "1bd306c6",
   "metadata": {},
   "outputs": [
    {
     "data": {
      "image/png": "[encoded data removed]",
      "text/plain": [
       "<Figure size 432x288 with 1 Axes>"
      ]
     },
     "metadata": {
      "needs_background": "light"
     },
     "output_type": "display_data"
    },
    {
     "data": {
      "image/png": "[encoded data removed]",
      "text/plain": [
       "<Figure size 432x288 with 1 Axes>"
      ]
     },
     "metadata": {
      "needs_background": "light"
     },
     "output_type": "display_data"
    }
   ],
   "source": [
    "# summarize history for accuracy\n",
    "plt.plot(history.history['accuracy'])\n",
    "plt.plot(history.history['val_accuracy'])\n",
    "plt.title('model accuracy')\n",
    "plt.ylabel('accuracy')\n",
    "plt.xlabel('epoch')\n",
    "plt.legend(['train', 'validation'], loc='upper left')\n",
    "plt.show()\n",
    "# summarize history for loss\n",
    "plt.plot(history.history['loss'])\n",
    "plt.plot(history.history['val_loss'])\n",
    "plt.title('model loss')\n",
    "plt.ylabel('loss')\n",
    "plt.xlabel('epoch')\n",
    "plt.legend(['train', 'validation'], loc='upper left')\n",
    "plt.show()"
   ]
  },
  {
   "cell_type": "code",
   "execution_count": 14,
   "id": "9fb4d288",
   "metadata": {},
   "outputs": [],
   "source": [
    "from sklearn.metrics import classification_report, confusion_matrix"
   ]
  },
  {
   "cell_type": "code",
   "execution_count": 15,
   "id": "43732b9c",
   "metadata": {},
   "outputs": [
    {
     "name": "stderr",
     "output_type": "stream",
     "text": [
      "C:\\Users\\farhe\\AppData\\Local\\Temp\\ipykernel_14312\\3071142573.py:1: UserWarning: `Model.predict_generator` is deprecated and will be removed in a future version. Please use `Model.predict`, which supports generators.\n",
      "  Y_pred = model.predict_generator( validation_gen, validation_gen.samples // batch_size+1)\n"
     ]
    },
    {
     "name": "stdout",
     "output_type": "stream",
     "text": [
      "Confusion Matrix\n",
      "[[20  0  0  0  0  0  6  0  0  0  0  0]\n",
      " [ 0 38  0  0  0  0  0  0  0  0  0  1]\n",
      " [ 0  1 25  0  1  0  0  0  0  1  0  0]\n",
      " [ 0  0  0 60  0  0  0  0  1  0  0  0]\n",
      " [ 0  0  0  0 22  0  0  0  0  0  0  0]\n",
      " [ 0  0  0  1  0 45  0  0  0  0  0  1]\n",
      " [ 2  0  0  0  0  0 63  0  0  0  0  0]\n",
      " [ 1  0  0  0  0  0  0 20  0  0  0  1]\n",
      " [ 0  0  0  0  0  0  0  0 50  1  0  0]\n",
      " [ 0  0  0  0  0  0  0  0  3 20  0  0]\n",
      " [ 0  0  0  0  0  0  0  0  1  0 48  0]\n",
      " [ 0  1  0  0  0  0  1  0  0  0  0 36]]\n"
     ]
    }
   ],
   "source": [
    "Y_pred = model.predict_generator( validation_gen, validation_gen.samples // batch_size+1)\n",
    "y_pred = np.argmax(Y_pred, axis=1)\n",
    "print('Confusion Matrix')\n",
    "print(confusion_matrix(validation_gen.classes, y_pred))"
   ]
  },
  {
   "cell_type": "code",
   "execution_count": 16,
   "id": "9eed8fab",
   "metadata": {},
   "outputs": [
    {
     "name": "stdout",
     "output_type": "stream",
     "text": [
      "Classification Report\n",
      "                           precision    recall  f1-score   support\n",
      "\n",
      "              Black-grass       0.87      0.77      0.82        26\n",
      "                 Charlock       0.95      0.97      0.96        39\n",
      "                 Cleavers       1.00      0.89      0.94        28\n",
      "         Common Chickweed       0.98      0.98      0.98        61\n",
      "             Common wheat       0.96      1.00      0.98        22\n",
      "                  Fat Hen       1.00      0.96      0.98        47\n",
      "         Loose Silky-bent       0.90      0.97      0.93        65\n",
      "                    Maize       1.00      0.91      0.95        22\n",
      "        Scentless Mayweed       0.91      0.98      0.94        51\n",
      "          Shepherds Purse       0.91      0.87      0.89        23\n",
      "Small-flowered Cranesbill       1.00      0.98      0.99        49\n",
      "               Sugar beet       0.92      0.95      0.94        38\n",
      "\n",
      "                 accuracy                           0.95       471\n",
      "                macro avg       0.95      0.94      0.94       471\n",
      "             weighted avg       0.95      0.95      0.95       471\n",
      "\n"
     ]
    }
   ],
   "source": [
    "print('Classification Report')\n",
    "print(classification_report(validation_gen.classes, y_pred, target_names=CATEGORIES))"
   ]
  }
 ],
 "metadata": {
  "kernelspec": {
   "display_name": "Python 3 (ipykernel)",
   "language": "python",
   "name": "python3"
  },
  "language_info": {
   "codemirror_mode": {
    "name": "ipython",
    "version": 3
   },
   "file_extension": ".py",
   "mimetype": "text/x-python",
   "name": "python",
   "nbconvert_exporter": "python",
   "pygments_lexer": "ipython3",
   "version": "3.9.13"
  }
 },
 "nbformat": 4,
 "nbformat_minor": 5
}
