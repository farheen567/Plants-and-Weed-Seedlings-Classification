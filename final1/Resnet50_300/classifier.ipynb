{
 "cells": [
  {
   "cell_type": "code",
   "execution_count": 1,
   "id": "3a2e2849",
   "metadata": {},
   "outputs": [],
   "source": [
    "import matplotlib.pyplot as plt\n",
    "import numpy as np\n",
    "import os\n",
    "import PIL\n",
    "import tensorflow as tf\n",
    "from tensorflow import keras\n",
    "from tensorflow.keras import layers\n",
    "from tensorflow.keras.layers import Dense, Flatten\n",
    "from tensorflow.keras.applications import ResNet50\n",
    "from tensorflow.keras.models import Sequential\n",
    "from tensorflow.keras.optimizers import Adam\n",
    "from tensorflow.keras.applications.resnet50 import preprocess_input\n",
    "from keras import models"
   ]
  },
  {
   "cell_type": "code",
   "execution_count": 2,
   "id": "cd5dcfeb",
   "metadata": {},
   "outputs": [],
   "source": [
    "CATEGORIES = ['Black-grass',\n",
    "          'Charlock',\n",
    "          'Cleavers',\n",
    "          'Common Chickweed',\n",
    "          'Common wheat',\n",
    "          'Fat Hen',\n",
    "          'Loose Silky-bent',\n",
    "          'Maize',\n",
    "          'Scentless Mayweed',\n",
    "          'Shepherds Purse',\n",
    "          'Small-flowered Cranesbill',\n",
    "          'Sugar beet']\n",
    "\n",
    "IMG_SIZE=300\n",
    "\n",
    "DATADIR  = 'D:/project/dataset/train'\n",
    "DATADIR_TEST  = 'D:/project/dataset/test'"
   ]
  },
  {
   "cell_type": "code",
   "execution_count": 3,
   "id": "be12d736",
   "metadata": {},
   "outputs": [
    {
     "name": "stdout",
     "output_type": "stream",
     "text": [
      "Found 4279 images belonging to 12 classes.\n",
      "Found 471 images belonging to 12 classes.\n",
      "Found 794 images belonging to 1 classes.\n"
     ]
    }
   ],
   "source": [
    "TRAIN_DATA_DIR = DATADIR\n",
    "batch_size = 16\n",
    "# create data generators\n",
    "def data_generators():\n",
    "\n",
    "    # apply random transformations on training data\n",
    "    train_data_generator = tf.keras.preprocessing.image.ImageDataGenerator(\n",
    "        preprocessing_function=preprocess_input,\n",
    "        rotation_range=180,\n",
    "        width_shift_range=0.3,\n",
    "        height_shift_range=0.3,\n",
    "        zoom_range=0.3,\n",
    "        horizontal_flip=True,\n",
    "        vertical_flip=True,\n",
    "        validation_split = 0.1,\n",
    "    )\n",
    "    test_data_generator = tf.keras.preprocessing.image.ImageDataGenerator(\n",
    "      preprocessing_function=preprocess_input)\n",
    "    \n",
    "    train_gen = train_data_generator.flow_from_directory(\n",
    "        directory = TRAIN_DATA_DIR,\n",
    "        target_size = (IMG_SIZE, IMG_SIZE),\n",
    "        color_mode = 'rgb',\n",
    "        class_mode = \"categorical\",\n",
    "        batch_size = batch_size,\n",
    "        subset = 'training',\n",
    "    )\n",
    "\n",
    "    # define validation data generator\n",
    "    validation_gen = train_data_generator.flow_from_directory(\n",
    "        directory = TRAIN_DATA_DIR,\n",
    "        color_mode = 'rgb',\n",
    "        class_mode = \"categorical\",\n",
    "        target_size = (IMG_SIZE, IMG_SIZE),\n",
    "        batch_size = batch_size,\n",
    "        subset = 'validation',\n",
    "        shuffle=False\n",
    "    )\n",
    "    test_gen = test_data_generator.flow_from_directory(\n",
    "        directory= 'D:/project/dataset',\n",
    "        classes=['test'],\n",
    "        target_size=(IMG_SIZE, IMG_SIZE),\n",
    "        batch_size=1,\n",
    "        color_mode='rgb',\n",
    "        shuffle=False,\n",
    "        class_mode='categorical')\n",
    "    return train_gen, validation_gen, test_gen\n",
    "train_gen, validation_gen, test_gen = data_generators()"
   ]
  },
  {
   "cell_type": "code",
   "execution_count": 4,
   "id": "07e97261",
   "metadata": {},
   "outputs": [
    {
     "name": "stdout",
     "output_type": "stream",
     "text": [
      "{'Black-grass': 0, 'Charlock': 1, 'Cleavers': 2, 'Common Chickweed': 3, 'Common wheat': 4, 'Fat Hen': 5, 'Loose Silky-bent': 6, 'Maize': 7, 'Scentless Mayweed': 8, 'Shepherds Purse': 9, 'Small-flowered Cranesbill': 10, 'Sugar beet': 11}\n"
     ]
    }
   ],
   "source": [
    "print(train_gen.class_indices)"
   ]
  },
  {
   "cell_type": "code",
   "execution_count": 5,
   "id": "8c6a254e",
   "metadata": {},
   "outputs": [],
   "source": [
    "resnet_model = Sequential()\n",
    "pretrained_model=ResNet50(include_top = False, pooling = 'avg', weights = 'imagenet')"
   ]
  },
  {
   "cell_type": "code",
   "execution_count": 6,
   "id": "6410b3c9",
   "metadata": {},
   "outputs": [],
   "source": [
    "resnet_model = Sequential()\n",
    "pretrained_model=ResNet50(include_top = False, input_shape=(IMG_SIZE,IMG_SIZE,3), pooling = 'avg', classes=100, weights = 'imagenet')\n",
    "for layer in pretrained_model.layers:\n",
    "    layer.trainable=False\n",
    "\n",
    "resnet_model.add(pretrained_model)\n",
    "resnet_model.add(Flatten())\n",
    "resnet_model.add(Dense(1024,\"relu\"))\n",
    "resnet_model.add(Dense(512,\"relu\"))\n",
    "resnet_model.add(Dense(128,\"relu\"))\n",
    "resnet_model.add(Dense(12, activation ='softmax'))"
   ]
  },
  {
   "cell_type": "code",
   "execution_count": 7,
   "id": "9f45e1da",
   "metadata": {},
   "outputs": [
    {
     "name": "stdout",
     "output_type": "stream",
     "text": [
      "Model: \"sequential_1\"\n",
      "_________________________________________________________________\n",
      " Layer (type)                Output Shape              Param #   \n",
      "=================================================================\n",
      " resnet50 (Functional)       (None, 2048)              23587712  \n",
      "                                                                 \n",
      " flatten (Flatten)           (None, 2048)              0         \n",
      "                                                                 \n",
      " dense (Dense)               (None, 1024)              2098176   \n",
      "                                                                 \n",
      " dense_1 (Dense)             (None, 512)               524800    \n",
      "                                                                 \n",
      " dense_2 (Dense)             (None, 128)               65664     \n",
      "                                                                 \n",
      " dense_3 (Dense)             (None, 12)                1548      \n",
      "                                                                 \n",
      "=================================================================\n",
      "Total params: 26,277,900\n",
      "Trainable params: 2,690,188\n",
      "Non-trainable params: 23,587,712\n",
      "_________________________________________________________________\n"
     ]
    }
   ],
   "source": [
    "resnet_model.summary()"
   ]
  },
  {
   "cell_type": "code",
   "execution_count": 8,
   "id": "2ec1c56c",
   "metadata": {},
   "outputs": [],
   "source": [
    "resnet_model.compile(optimizer='Adam',loss='categorical_crossentropy',metrics=['accuracy'])"
   ]
  },
  {
   "cell_type": "code",
   "execution_count": 9,
   "id": "c0f8940d",
   "metadata": {},
   "outputs": [],
   "source": [
    "# save best model regularly\n",
    "save_best_model = tf.keras.callbacks.ModelCheckpoint(filepath = 'best.h5',monitor = 'val_accuracy', \n",
    "                                                     save_best_only = True, verbose = 1,mode='max')\n",
    "# reduce learning rate when it stops decreasing\n",
    "reduce_lr = tf.keras.callbacks.ReduceLROnPlateau(monitor = 'val_accuracy', factor = 0.4,patience = 3,\n",
    "                                                 min_lr = 1e-10, verbose = 1, cooldown = 1)\n",
    "# stop training early if no further improvement\n",
    "early_stopping = tf.keras.callbacks.EarlyStopping(monitor = 'val_accuracy', min_delta = 1e-2, patience = 10, verbose = 1,\n",
    "        mode = 'max', baseline = None, restore_best_weights = True)\n",
    "callback=[save_best_model, reduce_lr, early_stopping]"
   ]
  },
  {
   "cell_type": "code",
   "execution_count": 10,
   "id": "6ebd4353",
   "metadata": {},
   "outputs": [
    {
     "name": "stdout",
     "output_type": "stream",
     "text": [
      "Epoch 1/100\n",
      "267/267 [==============================] - ETA: 0s - loss: 1.3970 - accuracy: 0.5135\n",
      "Epoch 1: val_accuracy improved from -inf to 0.70690, saving model to best.h5\n",
      "267/267 [==============================] - 485s 2s/step - loss: 1.3970 - accuracy: 0.5135 - val_loss: 0.8706 - val_accuracy: 0.7069 - lr: 0.0010\n",
      "Epoch 2/100\n",
      "267/267 [==============================] - ETA: 0s - loss: 0.7858 - accuracy: 0.7183\n",
      "Epoch 2: val_accuracy improved from 0.70690 to 0.74784, saving model to best.h5\n",
      "267/267 [==============================] - 412s 2s/step - loss: 0.7858 - accuracy: 0.7183 - val_loss: 0.7082 - val_accuracy: 0.7478 - lr: 0.0010\n",
      "Epoch 3/100\n",
      "267/267 [==============================] - ETA: 0s - loss: 0.6605 - accuracy: 0.7647\n",
      "Epoch 3: val_accuracy improved from 0.74784 to 0.79310, saving model to best.h5\n",
      "267/267 [==============================] - 404s 2s/step - loss: 0.6605 - accuracy: 0.7647 - val_loss: 0.6011 - val_accuracy: 0.7931 - lr: 0.0010\n",
      "Epoch 4/100\n",
      "267/267 [==============================] - ETA: 0s - loss: 0.6014 - accuracy: 0.7875\n",
      "Epoch 4: val_accuracy did not improve from 0.79310\n",
      "267/267 [==============================] - 404s 2s/step - loss: 0.6014 - accuracy: 0.7875 - val_loss: 0.6572 - val_accuracy: 0.7737 - lr: 0.0010\n",
      "Epoch 5/100\n",
      "267/267 [==============================] - ETA: 0s - loss: 0.5548 - accuracy: 0.8069\n",
      "Epoch 5: val_accuracy did not improve from 0.79310\n",
      "267/267 [==============================] - 404s 2s/step - loss: 0.5548 - accuracy: 0.8069 - val_loss: 0.5911 - val_accuracy: 0.7909 - lr: 0.0010\n",
      "Epoch 6/100\n",
      "267/267 [==============================] - ETA: 0s - loss: 0.5061 - accuracy: 0.8196\n",
      "Epoch 6: val_accuracy did not improve from 0.79310\n",
      "\n",
      "Epoch 6: ReduceLROnPlateau reducing learning rate to 0.0004000000189989805.\n",
      "267/267 [==============================] - 404s 2s/step - loss: 0.5061 - accuracy: 0.8196 - val_loss: 0.6194 - val_accuracy: 0.7780 - lr: 0.0010\n",
      "Epoch 7/100\n",
      "267/267 [==============================] - ETA: 0s - loss: 0.3696 - accuracy: 0.8696\n",
      "Epoch 7: val_accuracy improved from 0.79310 to 0.83836, saving model to best.h5\n",
      "267/267 [==============================] - 404s 2s/step - loss: 0.3696 - accuracy: 0.8696 - val_loss: 0.4480 - val_accuracy: 0.8384 - lr: 4.0000e-04\n",
      "Epoch 8/100\n",
      "267/267 [==============================] - ETA: 0s - loss: 0.3467 - accuracy: 0.8787\n",
      "Epoch 8: val_accuracy did not improve from 0.83836\n",
      "267/267 [==============================] - 403s 2s/step - loss: 0.3467 - accuracy: 0.8787 - val_loss: 0.4621 - val_accuracy: 0.8168 - lr: 4.0000e-04\n",
      "Epoch 9/100\n",
      "267/267 [==============================] - ETA: 0s - loss: 0.3429 - accuracy: 0.8783\n",
      "Epoch 9: val_accuracy improved from 0.83836 to 0.88147, saving model to best.h5\n",
      "267/267 [==============================] - 404s 2s/step - loss: 0.3429 - accuracy: 0.8783 - val_loss: 0.3524 - val_accuracy: 0.8815 - lr: 4.0000e-04\n",
      "Epoch 10/100\n",
      "267/267 [==============================] - ETA: 0s - loss: 0.3319 - accuracy: 0.8787\n",
      "Epoch 10: val_accuracy did not improve from 0.88147\n",
      "267/267 [==============================] - 405s 2s/step - loss: 0.3319 - accuracy: 0.8787 - val_loss: 0.3945 - val_accuracy: 0.8728 - lr: 4.0000e-04\n",
      "Epoch 11/100\n",
      "267/267 [==============================] - ETA: 0s - loss: 0.3233 - accuracy: 0.8829\n",
      "Epoch 11: val_accuracy did not improve from 0.88147\n",
      "267/267 [==============================] - 404s 2s/step - loss: 0.3233 - accuracy: 0.8829 - val_loss: 0.4953 - val_accuracy: 0.8448 - lr: 4.0000e-04\n",
      "Epoch 12/100\n",
      "267/267 [==============================] - ETA: 0s - loss: 0.3284 - accuracy: 0.8825\n",
      "Epoch 12: val_accuracy did not improve from 0.88147\n",
      "\n",
      "Epoch 12: ReduceLROnPlateau reducing learning rate to 0.00016000000759959222.\n",
      "267/267 [==============================] - 7461s 28s/step - loss: 0.3284 - accuracy: 0.8825 - val_loss: 0.3970 - val_accuracy: 0.8470 - lr: 4.0000e-04\n",
      "Epoch 13/100\n",
      "267/267 [==============================] - ETA: 0s - loss: 0.2811 - accuracy: 0.8994\n",
      "Epoch 13: val_accuracy did not improve from 0.88147\n",
      "267/267 [==============================] - 400s 1s/step - loss: 0.2811 - accuracy: 0.8994 - val_loss: 0.3594 - val_accuracy: 0.8772 - lr: 1.6000e-04\n",
      "Epoch 14/100\n",
      "267/267 [==============================] - ETA: 0s - loss: 0.2730 - accuracy: 0.9017\n",
      "Epoch 14: val_accuracy did not improve from 0.88147\n",
      "267/267 [==============================] - 405s 2s/step - loss: 0.2730 - accuracy: 0.9017 - val_loss: 0.3794 - val_accuracy: 0.8750 - lr: 1.6000e-04\n",
      "Epoch 15/100\n",
      "267/267 [==============================] - ETA: 0s - loss: 0.2528 - accuracy: 0.9095\n",
      "Epoch 15: val_accuracy did not improve from 0.88147\n",
      "\n",
      "Epoch 15: ReduceLROnPlateau reducing learning rate to 6.40000042039901e-05.\n",
      "267/267 [==============================] - 385s 1s/step - loss: 0.2528 - accuracy: 0.9095 - val_loss: 0.3539 - val_accuracy: 0.8728 - lr: 1.6000e-04\n",
      "Epoch 16/100\n",
      "267/267 [==============================] - ETA: 0s - loss: 0.2307 - accuracy: 0.9148\n",
      "Epoch 16: val_accuracy improved from 0.88147 to 0.88578, saving model to best.h5\n",
      "267/267 [==============================] - 405s 2s/step - loss: 0.2307 - accuracy: 0.9148 - val_loss: 0.3535 - val_accuracy: 0.8858 - lr: 6.4000e-05\n",
      "Epoch 17/100\n",
      "267/267 [==============================] - ETA: 0s - loss: 0.2300 - accuracy: 0.9148\n",
      "Epoch 17: val_accuracy did not improve from 0.88578\n",
      "267/267 [==============================] - 388s 1s/step - loss: 0.2300 - accuracy: 0.9148 - val_loss: 0.3701 - val_accuracy: 0.8728 - lr: 6.4000e-05\n",
      "Epoch 18/100\n",
      "267/267 [==============================] - ETA: 0s - loss: 0.2468 - accuracy: 0.9116\n",
      "Epoch 18: val_accuracy did not improve from 0.88578\n",
      "267/267 [==============================] - 396s 1s/step - loss: 0.2468 - accuracy: 0.9116 - val_loss: 0.3459 - val_accuracy: 0.8642 - lr: 6.4000e-05\n",
      "Epoch 19/100\n",
      "267/267 [==============================] - ETA: 0s - loss: 0.2244 - accuracy: 0.9165\n",
      "Epoch 19: val_accuracy did not improve from 0.88578\n",
      "\n",
      "Epoch 19: ReduceLROnPlateau reducing learning rate to 2.560000284574926e-05.\n",
      "Restoring model weights from the end of the best epoch: 9.\n",
      "267/267 [==============================] - 400s 1s/step - loss: 0.2244 - accuracy: 0.9165 - val_loss: 0.3786 - val_accuracy: 0.8556 - lr: 6.4000e-05\n",
      "Epoch 19: early stopping\n"
     ]
    }
   ],
   "source": [
    "history = resnet_model.fit(train_gen,\n",
    "          epochs = 100,\n",
    "          steps_per_epoch=train_gen.samples // batch_size,\n",
    "          validation_data = validation_gen,\n",
    "          validation_steps = validation_gen.samples // batch_size,\n",
    "          callbacks=callback)"
   ]
  },
  {
   "cell_type": "code",
   "execution_count": 11,
   "id": "65e12aa1",
   "metadata": {},
   "outputs": [],
   "source": [
    "model = models.load_model('best.h5')"
   ]
  },
  {
   "cell_type": "code",
   "execution_count": 12,
   "id": "9fdb1051",
   "metadata": {},
   "outputs": [
    {
     "name": "stdout",
     "output_type": "stream",
     "text": [
      "794/794 [==============================] - 89s 111ms/step - loss: 196.6190 - accuracy: 0.0264\n"
     ]
    },
    {
     "data": {
      "text/plain": [
       "[196.6190185546875, 0.026448363438248634]"
      ]
     },
     "execution_count": 12,
     "metadata": {},
     "output_type": "execute_result"
    }
   ],
   "source": [
    "model.evaluate(test_gen)"
   ]
  },
  {
   "cell_type": "code",
   "execution_count": 13,
   "id": "5f8ebc41",
   "metadata": {},
   "outputs": [
    {
     "data": {
      "image/png": "[encoded data removed]",
      "text/plain": [
       "<Figure size 432x288 with 1 Axes>"
      ]
     },
     "metadata": {
      "needs_background": "light"
     },
     "output_type": "display_data"
    },
    {
     "data": {
      "image/png": "[encoded data removed]",
      "text/plain": [
       "<Figure size 432x288 with 1 Axes>"
      ]
     },
     "metadata": {
      "needs_background": "light"
     },
     "output_type": "display_data"
    }
   ],
   "source": [
    "# summarize history for accuracy\n",
    "plt.plot(history.history['accuracy'])\n",
    "plt.plot(history.history['val_accuracy'])\n",
    "plt.title('model accuracy')\n",
    "plt.ylabel('accuracy')\n",
    "plt.xlabel('epoch')\n",
    "plt.legend(['train', 'validation'], loc='upper left')\n",
    "plt.show()\n",
    "# summarize history for loss\n",
    "plt.plot(history.history['loss'])\n",
    "plt.plot(history.history['val_loss'])\n",
    "plt.title('model loss')\n",
    "plt.ylabel('loss')\n",
    "plt.xlabel('epoch')\n",
    "plt.legend(['train', 'validation'], loc='upper left')\n",
    "plt.show()"
   ]
  },
  {
   "cell_type": "code",
   "execution_count": 14,
   "id": "d890a743",
   "metadata": {},
   "outputs": [],
   "source": [
    "from sklearn.metrics import classification_report, confusion_matrix"
   ]
  },
  {
   "cell_type": "code",
   "execution_count": 15,
   "id": "82381411",
   "metadata": {},
   "outputs": [
    {
     "name": "stderr",
     "output_type": "stream",
     "text": [
      "C:\\Users\\farhe\\AppData\\Local\\Temp\\ipykernel_13436\\3071142573.py:1: UserWarning: `Model.predict_generator` is deprecated and will be removed in a future version. Please use `Model.predict`, which supports generators.\n",
      "  Y_pred = model.predict_generator( validation_gen, validation_gen.samples // batch_size+1)\n"
     ]
    },
    {
     "name": "stdout",
     "output_type": "stream",
     "text": [
      "Confusion Matrix\n",
      "[[15  0  0  0  0  0 11  0  0  0  0  0]\n",
      " [ 0 39  0  0  0  0  0  0  0  0  0  0]\n",
      " [ 0  1 25  0  1  0  0  0  1  0  0  0]\n",
      " [ 0  0  0 59  0  0  0  0  2  0  0  0]\n",
      " [ 1  0  0  0 20  0  1  0  0  0  0  0]\n",
      " [ 0  0  0  2  0 42  1  0  0  0  0  2]\n",
      " [10  0  0  0  0  1 54  0  0  0  0  0]\n",
      " [ 0  0  0  0  1  0  1 19  1  0  0  0]\n",
      " [ 0  0  0  1  0  0  0  0 48  2  0  0]\n",
      " [ 0  0  0  2  0  0  0  0  6 14  1  0]\n",
      " [ 0  0  0  1  0  0  0  0  1  0 47  0]\n",
      " [ 1  0  0  0  2  0  0  1  0  0  0 34]]\n"
     ]
    }
   ],
   "source": [
    "Y_pred = model.predict_generator( validation_gen, validation_gen.samples // batch_size+1)\n",
    "y_pred = np.argmax(Y_pred, axis=1)\n",
    "print('Confusion Matrix')\n",
    "print(confusion_matrix(validation_gen.classes, y_pred))"
   ]
  },
  {
   "cell_type": "code",
   "execution_count": 16,
   "id": "559cc67f",
   "metadata": {},
   "outputs": [
    {
     "name": "stdout",
     "output_type": "stream",
     "text": [
      "Classification Report\n",
      "                           precision    recall  f1-score   support\n",
      "\n",
      "              Black-grass       0.56      0.58      0.57        26\n",
      "                 Charlock       0.97      1.00      0.99        39\n",
      "                 Cleavers       1.00      0.89      0.94        28\n",
      "         Common Chickweed       0.91      0.97      0.94        61\n",
      "             Common wheat       0.83      0.91      0.87        22\n",
      "                  Fat Hen       0.98      0.89      0.93        47\n",
      "         Loose Silky-bent       0.79      0.83      0.81        65\n",
      "                    Maize       0.95      0.86      0.90        22\n",
      "        Scentless Mayweed       0.81      0.94      0.87        51\n",
      "          Shepherds Purse       0.88      0.61      0.72        23\n",
      "Small-flowered Cranesbill       0.98      0.96      0.97        49\n",
      "               Sugar beet       0.94      0.89      0.92        38\n",
      "\n",
      "                 accuracy                           0.88       471\n",
      "                macro avg       0.88      0.86      0.87       471\n",
      "             weighted avg       0.89      0.88      0.88       471\n",
      "\n"
     ]
    }
   ],
   "source": [
    "print('Classification Report')\n",
    "print(classification_report(validation_gen.classes, y_pred, target_names=CATEGORIES))"
   ]
  },
  {
   "cell_type": "code",
   "execution_count": null,
   "id": "f6094e2c",
   "metadata": {},
   "outputs": [],
   "source": []
  }
 ],
 "metadata": {
  "kernelspec": {
   "display_name": "Python 3 (ipykernel)",
   "language": "python",
   "name": "python3"
  },
  "language_info": {
   "codemirror_mode": {
    "name": "ipython",
    "version": 3
   },
   "file_extension": ".py",
   "mimetype": "text/x-python",
   "name": "python",
   "nbconvert_exporter": "python",
   "pygments_lexer": "ipython3",
   "version": "3.9.13"
  }
 },
 "nbformat": 4,
 "nbformat_minor": 5
}
