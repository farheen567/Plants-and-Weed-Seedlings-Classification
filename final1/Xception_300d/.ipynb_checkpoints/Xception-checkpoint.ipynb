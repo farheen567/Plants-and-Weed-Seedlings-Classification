{
 "cells": [
  {
   "cell_type": "code",
   "execution_count": 1,
   "id": "ae34822b",
   "metadata": {},
   "outputs": [],
   "source": [
    "import matplotlib.pyplot as plt\n",
    "import numpy as np\n",
    "import os\n",
    "import PIL\n",
    "import tensorflow as tf\n",
    "from tensorflow import keras\n",
    "from tensorflow.keras import layers\n",
    "from tensorflow.keras.layers import Dense, Flatten, GlobalAveragePooling2D, Dropout\n",
    "from tensorflow.keras.applications import Xception\n",
    "from tensorflow.keras.models import Sequential\n",
    "from tensorflow.keras.optimizers import Adam\n",
    "from tensorflow.keras.applications.xception import preprocess_input\n",
    "from keras import models"
   ]
  },
  {
   "cell_type": "code",
   "execution_count": 2,
   "id": "e63d1aea",
   "metadata": {},
   "outputs": [],
   "source": [
    "CATEGORIES = ['Black-grass',\n",
    "          'Charlock',\n",
    "          'Cleavers',\n",
    "          'Common Chickweed',\n",
    "          'Common wheat',\n",
    "          'Fat Hen',\n",
    "          'Loose Silky-bent',\n",
    "          'Maize',\n",
    "          'Scentless Mayweed',\n",
    "          'Shepherds Purse',\n",
    "          'Small-flowered Cranesbill',\n",
    "          'Sugar beet']\n",
    "\n",
    "IMG_SIZE=300\n",
    "\n",
    "DATADIR  = 'D:/project/dataset/train'\n",
    "DATADIR_TEST  = 'D:/project/dataset/test'"
   ]
  },
  {
   "cell_type": "code",
   "execution_count": 3,
   "id": "eef3b7fa",
   "metadata": {},
   "outputs": [
    {
     "name": "stdout",
     "output_type": "stream",
     "text": [
      "Found 4279 images belonging to 12 classes.\n",
      "Found 471 images belonging to 12 classes.\n",
      "Found 794 images belonging to 1 classes.\n"
     ]
    }
   ],
   "source": [
    "TRAIN_DATA_DIR = DATADIR\n",
    "batch_size = 16\n",
    "# create data generators\n",
    "def data_generators():\n",
    "\n",
    "    # apply random transformations on training data\n",
    "    train_data_generator = tf.keras.preprocessing.image.ImageDataGenerator(\n",
    "        preprocessing_function=preprocess_input,\n",
    "        rotation_range=180,\n",
    "        width_shift_range=0.3,\n",
    "        height_shift_range=0.3,\n",
    "        zoom_range=0.3,\n",
    "        horizontal_flip=True,\n",
    "        vertical_flip=True,\n",
    "        validation_split = 0.1,\n",
    "    )\n",
    "    test_data_generator = tf.keras.preprocessing.image.ImageDataGenerator(\n",
    "      preprocessing_function=preprocess_input)\n",
    "    \n",
    "    train_gen = train_data_generator.flow_from_directory(\n",
    "        directory = TRAIN_DATA_DIR,\n",
    "        target_size = (IMG_SIZE, IMG_SIZE),\n",
    "        color_mode = 'rgb',\n",
    "        class_mode = \"categorical\",\n",
    "        batch_size = batch_size,\n",
    "        subset = 'training',\n",
    "    )\n",
    "\n",
    "    # define validation data generator\n",
    "    validation_gen = train_data_generator.flow_from_directory(\n",
    "        directory = TRAIN_DATA_DIR,\n",
    "        color_mode = 'rgb',\n",
    "        class_mode = \"categorical\",\n",
    "        target_size = (IMG_SIZE, IMG_SIZE),\n",
    "        batch_size = batch_size,\n",
    "        subset = 'validation',\n",
    "        shuffle=False\n",
    "    )\n",
    "    test_gen = test_data_generator.flow_from_directory(\n",
    "        directory= 'D:/project/dataset',\n",
    "        classes=['test'],\n",
    "        target_size=(IMG_SIZE, IMG_SIZE),\n",
    "        batch_size=1,\n",
    "        color_mode='rgb',\n",
    "        shuffle=False,\n",
    "        class_mode='categorical')\n",
    "    return train_gen, validation_gen, test_gen\n",
    "train_gen, validation_gen, test_gen = data_generators()"
   ]
  },
  {
   "cell_type": "code",
   "execution_count": 4,
   "id": "cfa256ba",
   "metadata": {},
   "outputs": [
    {
     "name": "stdout",
     "output_type": "stream",
     "text": [
      "{'Black-grass': 0, 'Charlock': 1, 'Cleavers': 2, 'Common Chickweed': 3, 'Common wheat': 4, 'Fat Hen': 5, 'Loose Silky-bent': 6, 'Maize': 7, 'Scentless Mayweed': 8, 'Shepherds Purse': 9, 'Small-flowered Cranesbill': 10, 'Sugar beet': 11}\n"
     ]
    }
   ],
   "source": [
    "print(train_gen.class_indices)"
   ]
  },
  {
   "cell_type": "code",
   "execution_count": 5,
   "id": "3bff3e1e",
   "metadata": {},
   "outputs": [],
   "source": [
    "xception_model = Sequential()\n",
    "base_model = Xception(weights='imagenet', input_shape=(IMG_SIZE, IMG_SIZE, 3), include_top=False)\n",
    "xception_model.add(base_model)\n",
    "xception_model.add(GlobalAveragePooling2D())\n",
    "xception_model.add(Dropout(0.5))\n",
    "xception_model.add(Dense(1024, activation='relu'))\n",
    "xception_model.add(Dropout(0.5))\n",
    "xception_model.add(Dense(12, activation='softmax'))"
   ]
  },
  {
   "cell_type": "code",
   "execution_count": 6,
   "id": "307ba594",
   "metadata": {},
   "outputs": [
    {
     "name": "stdout",
     "output_type": "stream",
     "text": [
      "Model: \"sequential\"\n",
      "_________________________________________________________________\n",
      " Layer (type)                Output Shape              Param #   \n",
      "=================================================================\n",
      " xception (Functional)       (None, 10, 10, 2048)      20861480  \n",
      "                                                                 \n",
      " global_average_pooling2d (G  (None, 2048)             0         \n",
      " lobalAveragePooling2D)                                          \n",
      "                                                                 \n",
      " dropout (Dropout)           (None, 2048)              0         \n",
      "                                                                 \n",
      " dense (Dense)               (None, 1024)              2098176   \n",
      "                                                                 \n",
      " dropout_1 (Dropout)         (None, 1024)              0         \n",
      "                                                                 \n",
      " dense_1 (Dense)             (None, 12)                12300     \n",
      "                                                                 \n",
      "=================================================================\n",
      "Total params: 22,971,956\n",
      "Trainable params: 22,917,428\n",
      "Non-trainable params: 54,528\n",
      "_________________________________________________________________\n"
     ]
    }
   ],
   "source": [
    "xception_model.summary()"
   ]
  },
  {
   "cell_type": "code",
   "execution_count": 7,
   "id": "4138ee78",
   "metadata": {},
   "outputs": [],
   "source": [
    "optimizer = keras.optimizers.Adam(0.0005)"
   ]
  },
  {
   "cell_type": "code",
   "execution_count": 8,
   "id": "7da0a693",
   "metadata": {},
   "outputs": [],
   "source": [
    "xception_model.compile(optimizer=optimizer,loss='categorical_crossentropy',metrics=['accuracy'])"
   ]
  },
  {
   "cell_type": "code",
   "execution_count": 9,
   "id": "e9131072",
   "metadata": {},
   "outputs": [],
   "source": [
    "# save best model regularly\n",
    "save_best_model = tf.keras.callbacks.ModelCheckpoint(filepath = 'best.h5',monitor = 'val_accuracy', \n",
    "                                                     save_best_only = True, verbose = 1,mode='max')\n",
    "# reduce learning rate when it stops decreasing\n",
    "reduce_lr = tf.keras.callbacks.ReduceLROnPlateau(monitor = 'val_accuracy', factor = 0.4,patience = 3,\n",
    "                                                 min_lr = 1e-10, verbose = 1, cooldown = 1)\n",
    "# stop training early if no further improvement\n",
    "early_stopping = tf.keras.callbacks.EarlyStopping(monitor = 'val_accuracy', min_delta = 1e-2, patience = 10, verbose = 1,\n",
    "        mode = 'max', baseline = None, restore_best_weights = True)\n",
    "callback=[save_best_model, reduce_lr, early_stopping]"
   ]
  },
  {
   "cell_type": "code",
   "execution_count": 10,
   "id": "af688ba6",
   "metadata": {},
   "outputs": [
    {
     "name": "stdout",
     "output_type": "stream",
     "text": [
      "Epoch 1/100\n",
      "267/267 [==============================] - ETA: 0s - loss: 1.0263 - accuracy: 0.6653\n",
      "Epoch 1: val_accuracy improved from -inf to 0.78017, saving model to best.h5\n",
      "267/267 [==============================] - 1634s 6s/step - loss: 1.0263 - accuracy: 0.6653 - val_loss: 0.7807 - val_accuracy: 0.7802 - lr: 5.0000e-04\n",
      "Epoch 2/100\n",
      "267/267 [==============================] - ETA: 0s - loss: 0.4146 - accuracy: 0.8686\n",
      "Epoch 2: val_accuracy improved from 0.78017 to 0.87284, saving model to best.h5\n",
      "267/267 [==============================] - 1624s 6s/step - loss: 0.4146 - accuracy: 0.8686 - val_loss: 0.5166 - val_accuracy: 0.8728 - lr: 5.0000e-04\n",
      "Epoch 3/100\n",
      "267/267 [==============================] - ETA: 0s - loss: 0.3381 - accuracy: 0.8855\n",
      "Epoch 3: val_accuracy improved from 0.87284 to 0.89871, saving model to best.h5\n",
      "267/267 [==============================] - 1649s 6s/step - loss: 0.3381 - accuracy: 0.8855 - val_loss: 0.3257 - val_accuracy: 0.8987 - lr: 5.0000e-04\n",
      "Epoch 4/100\n",
      "267/267 [==============================] - ETA: 0s - loss: 0.2918 - accuracy: 0.9087\n",
      "Epoch 4: val_accuracy did not improve from 0.89871\n",
      "267/267 [==============================] - 1724s 6s/step - loss: 0.2918 - accuracy: 0.9087 - val_loss: 0.3947 - val_accuracy: 0.8728 - lr: 5.0000e-04\n",
      "Epoch 5/100\n",
      "267/267 [==============================] - ETA: 0s - loss: 0.2696 - accuracy: 0.9120\n",
      "Epoch 5: val_accuracy improved from 0.89871 to 0.91595, saving model to best.h5\n",
      "267/267 [==============================] - 1817s 7s/step - loss: 0.2696 - accuracy: 0.9120 - val_loss: 0.2424 - val_accuracy: 0.9159 - lr: 5.0000e-04\n",
      "Epoch 6/100\n",
      "267/267 [==============================] - ETA: 0s - loss: 0.2632 - accuracy: 0.9156\n",
      "Epoch 6: val_accuracy improved from 0.91595 to 0.91810, saving model to best.h5\n",
      "267/267 [==============================] - 1850s 7s/step - loss: 0.2632 - accuracy: 0.9156 - val_loss: 0.2949 - val_accuracy: 0.9181 - lr: 5.0000e-04\n",
      "Epoch 7/100\n",
      "267/267 [==============================] - ETA: 0s - loss: 0.2111 - accuracy: 0.9313\n",
      "Epoch 7: val_accuracy did not improve from 0.91810\n",
      "267/267 [==============================] - 1858s 7s/step - loss: 0.2111 - accuracy: 0.9313 - val_loss: 0.3534 - val_accuracy: 0.8858 - lr: 5.0000e-04\n",
      "Epoch 8/100\n",
      "267/267 [==============================] - ETA: 0s - loss: 0.2126 - accuracy: 0.9353\n",
      "Epoch 8: val_accuracy improved from 0.91810 to 0.94828, saving model to best.h5\n",
      "267/267 [==============================] - 1903s 7s/step - loss: 0.2126 - accuracy: 0.9353 - val_loss: 0.1939 - val_accuracy: 0.9483 - lr: 5.0000e-04\n",
      "Epoch 9/100\n",
      "267/267 [==============================] - ETA: 0s - loss: 0.2296 - accuracy: 0.9278\n",
      "Epoch 9: val_accuracy did not improve from 0.94828\n",
      "267/267 [==============================] - 1708s 6s/step - loss: 0.2296 - accuracy: 0.9278 - val_loss: 0.2323 - val_accuracy: 0.9353 - lr: 5.0000e-04\n",
      "Epoch 10/100\n",
      "267/267 [==============================] - ETA: 0s - loss: 0.1865 - accuracy: 0.9399\n",
      "Epoch 10: val_accuracy did not improve from 0.94828\n",
      "267/267 [==============================] - 1707s 6s/step - loss: 0.1865 - accuracy: 0.9399 - val_loss: 0.3070 - val_accuracy: 0.9159 - lr: 5.0000e-04\n",
      "Epoch 11/100\n",
      "267/267 [==============================] - ETA: 0s - loss: 0.2128 - accuracy: 0.9348\n",
      "Epoch 11: val_accuracy did not improve from 0.94828\n",
      "\n",
      "Epoch 11: ReduceLROnPlateau reducing learning rate to 0.00020000000949949026.\n",
      "267/267 [==============================] - 1710s 6s/step - loss: 0.2128 - accuracy: 0.9348 - val_loss: 0.3257 - val_accuracy: 0.9116 - lr: 5.0000e-04\n",
      "Epoch 12/100\n",
      "267/267 [==============================] - ETA: 0s - loss: 0.1201 - accuracy: 0.9606\n",
      "Epoch 12: val_accuracy improved from 0.94828 to 0.96121, saving model to best.h5\n",
      "267/267 [==============================] - 1711s 6s/step - loss: 0.1201 - accuracy: 0.9606 - val_loss: 0.1426 - val_accuracy: 0.9612 - lr: 2.0000e-04\n",
      "Epoch 13/100\n",
      "267/267 [==============================] - ETA: 0s - loss: 0.0978 - accuracy: 0.9653\n",
      "Epoch 13: val_accuracy did not improve from 0.96121\n",
      "267/267 [==============================] - 1710s 6s/step - loss: 0.0978 - accuracy: 0.9653 - val_loss: 0.1363 - val_accuracy: 0.9547 - lr: 2.0000e-04\n",
      "Epoch 14/100\n",
      "267/267 [==============================] - ETA: 0s - loss: 0.0851 - accuracy: 0.9737\n",
      "Epoch 14: val_accuracy did not improve from 0.96121\n",
      "267/267 [==============================] - 1713s 6s/step - loss: 0.0851 - accuracy: 0.9737 - val_loss: 0.2078 - val_accuracy: 0.9483 - lr: 2.0000e-04\n",
      "Epoch 15/100\n",
      "267/267 [==============================] - ETA: 0s - loss: 0.0901 - accuracy: 0.9688\n",
      "Epoch 15: val_accuracy improved from 0.96121 to 0.96552, saving model to best.h5\n",
      "267/267 [==============================] - 1699s 6s/step - loss: 0.0901 - accuracy: 0.9688 - val_loss: 0.1320 - val_accuracy: 0.9655 - lr: 2.0000e-04\n",
      "Epoch 16/100\n",
      "267/267 [==============================] - ETA: 0s - loss: 0.0769 - accuracy: 0.9711\n",
      "Epoch 16: val_accuracy improved from 0.96552 to 0.97198, saving model to best.h5\n",
      "267/267 [==============================] - 1691s 6s/step - loss: 0.0769 - accuracy: 0.9711 - val_loss: 0.1322 - val_accuracy: 0.9720 - lr: 2.0000e-04\n",
      "Epoch 17/100\n",
      "267/267 [==============================] - ETA: 0s - loss: 0.0815 - accuracy: 0.9730\n",
      "Epoch 17: val_accuracy did not improve from 0.97198\n",
      "267/267 [==============================] - 1693s 6s/step - loss: 0.0815 - accuracy: 0.9730 - val_loss: 0.1702 - val_accuracy: 0.9547 - lr: 2.0000e-04\n",
      "Epoch 18/100\n",
      "267/267 [==============================] - ETA: 0s - loss: 0.0799 - accuracy: 0.9735\n",
      "Epoch 18: val_accuracy did not improve from 0.97198\n",
      "267/267 [==============================] - 1693s 6s/step - loss: 0.0799 - accuracy: 0.9735 - val_loss: 0.1488 - val_accuracy: 0.9698 - lr: 2.0000e-04\n",
      "Epoch 19/100\n",
      "267/267 [==============================] - ETA: 0s - loss: 0.0758 - accuracy: 0.9751\n",
      "Epoch 19: val_accuracy did not improve from 0.97198\n",
      "\n",
      "Epoch 19: ReduceLROnPlateau reducing learning rate to 8.000000379979611e-05.\n",
      "267/267 [==============================] - 1735s 6s/step - loss: 0.0758 - accuracy: 0.9751 - val_loss: 0.1789 - val_accuracy: 0.9655 - lr: 2.0000e-04\n",
      "Epoch 20/100\n",
      "267/267 [==============================] - ETA: 0s - loss: 0.0603 - accuracy: 0.9787\n",
      "Epoch 20: val_accuracy did not improve from 0.97198\n",
      "267/267 [==============================] - 1844s 7s/step - loss: 0.0603 - accuracy: 0.9787 - val_loss: 0.1339 - val_accuracy: 0.9634 - lr: 8.0000e-05\n",
      "Epoch 21/100\n",
      "267/267 [==============================] - ETA: 0s - loss: 0.0453 - accuracy: 0.9845\n",
      "Epoch 21: val_accuracy did not improve from 0.97198\n",
      "267/267 [==============================] - 1850s 7s/step - loss: 0.0453 - accuracy: 0.9845 - val_loss: 0.1484 - val_accuracy: 0.9655 - lr: 8.0000e-05\n",
      "Epoch 22/100\n",
      "267/267 [==============================] - ETA: 0s - loss: 0.0530 - accuracy: 0.9815\n",
      "Epoch 22: val_accuracy did not improve from 0.97198\n",
      "\n",
      "Epoch 22: ReduceLROnPlateau reducing learning rate to 3.200000210199505e-05.\n",
      "267/267 [==============================] - 1809s 7s/step - loss: 0.0530 - accuracy: 0.9815 - val_loss: 0.1249 - val_accuracy: 0.9698 - lr: 8.0000e-05\n",
      "Epoch 23/100\n",
      "267/267 [==============================] - ETA: 0s - loss: 0.0416 - accuracy: 0.9845\n",
      "Epoch 23: val_accuracy did not improve from 0.97198\n",
      "267/267 [==============================] - 1706s 6s/step - loss: 0.0416 - accuracy: 0.9845 - val_loss: 0.1450 - val_accuracy: 0.9634 - lr: 3.2000e-05\n",
      "Epoch 24/100\n",
      "267/267 [==============================] - ETA: 0s - loss: 0.0395 - accuracy: 0.9866\n",
      "Epoch 24: val_accuracy did not improve from 0.97198\n",
      "267/267 [==============================] - 1715s 6s/step - loss: 0.0395 - accuracy: 0.9866 - val_loss: 0.1205 - val_accuracy: 0.9720 - lr: 3.2000e-05\n",
      "Epoch 25/100\n",
      "267/267 [==============================] - ETA: 0s - loss: 0.0419 - accuracy: 0.9845\n",
      "Epoch 25: val_accuracy did not improve from 0.97198\n",
      "\n",
      "Epoch 25: ReduceLROnPlateau reducing learning rate to 1.280000142287463e-05.\n",
      "267/267 [==============================] - 1758s 7s/step - loss: 0.0419 - accuracy: 0.9845 - val_loss: 0.1493 - val_accuracy: 0.9655 - lr: 3.2000e-05\n",
      "Epoch 26/100\n",
      "267/267 [==============================] - ETA: 0s - loss: 0.0364 - accuracy: 0.9871\n",
      "Epoch 26: val_accuracy improved from 0.97198 to 0.98060, saving model to best.h5\n"
     ]
    },
    {
     "name": "stdout",
     "output_type": "stream",
     "text": [
      "Restoring model weights from the end of the best epoch: 16.\n",
      "267/267 [==============================] - 1779s 7s/step - loss: 0.0364 - accuracy: 0.9871 - val_loss: 0.1205 - val_accuracy: 0.9806 - lr: 1.2800e-05\n",
      "Epoch 26: early stopping\n"
     ]
    }
   ],
   "source": [
    "history = xception_model.fit(train_gen,\n",
    "          epochs = 100,\n",
    "          steps_per_epoch=train_gen.samples // batch_size,\n",
    "          validation_data = validation_gen,\n",
    "          validation_steps = validation_gen.samples // batch_size,\n",
    "          callbacks=callback)"
   ]
  },
  {
   "cell_type": "code",
   "execution_count": 11,
   "id": "36de80dd",
   "metadata": {},
   "outputs": [],
   "source": [
    "model = models.load_model('best.h5')"
   ]
  },
  {
   "cell_type": "code",
   "execution_count": 12,
   "id": "756729c1",
   "metadata": {},
   "outputs": [
    {
     "name": "stdout",
     "output_type": "stream",
     "text": [
      "794/794 [==============================] - 116s 145ms/step - loss: 256.3307 - accuracy: 0.0453\n"
     ]
    },
    {
     "data": {
      "text/plain": [
       "[256.3306884765625, 0.045340050011873245]"
      ]
     },
     "execution_count": 12,
     "metadata": {},
     "output_type": "execute_result"
    }
   ],
   "source": [
    "model.evaluate(test_gen)"
   ]
  },
  {
   "cell_type": "code",
   "execution_count": 13,
   "id": "6127dc27",
   "metadata": {},
   "outputs": [
    {
     "data": {
      "image/png": "[encoded data removed]",
      "text/plain": [
       "<Figure size 432x288 with 1 Axes>"
      ]
     },
     "metadata": {
      "needs_background": "light"
     },
     "output_type": "display_data"
    },
    {
     "data": {
      "image/png": "[encoded data removed]",
      "text/plain": [
       "<Figure size 432x288 with 1 Axes>"
      ]
     },
     "metadata": {
      "needs_background": "light"
     },
     "output_type": "display_data"
    }
   ],
   "source": [
    "# summarize history for accuracy\n",
    "plt.plot(history.history['accuracy'])\n",
    "plt.plot(history.history['val_accuracy'])\n",
    "plt.title('model accuracy')\n",
    "plt.ylabel('accuracy')\n",
    "plt.xlabel('epoch')\n",
    "plt.legend(['train', 'validation'], loc='upper left')\n",
    "plt.show()\n",
    "# summarize history for loss\n",
    "plt.plot(history.history['loss'])\n",
    "plt.plot(history.history['val_loss'])\n",
    "plt.title('model loss')\n",
    "plt.ylabel('loss')\n",
    "plt.xlabel('epoch')\n",
    "plt.legend(['train', 'validation'], loc='upper left')\n",
    "plt.show()"
   ]
  },
  {
   "cell_type": "code",
   "execution_count": 14,
   "id": "6d8bb060",
   "metadata": {},
   "outputs": [],
   "source": [
    "from sklearn.metrics import classification_report, confusion_matrix"
   ]
  },
  {
   "cell_type": "code",
   "execution_count": 15,
   "id": "4b51545f",
   "metadata": {},
   "outputs": [
    {
     "name": "stderr",
     "output_type": "stream",
     "text": [
      "C:\\Users\\farhe\\AppData\\Local\\Temp\\ipykernel_17064\\3071142573.py:1: UserWarning: `Model.predict_generator` is deprecated and will be removed in a future version. Please use `Model.predict`, which supports generators.\n",
      "  Y_pred = model.predict_generator( validation_gen, validation_gen.samples // batch_size+1)\n"
     ]
    },
    {
     "name": "stdout",
     "output_type": "stream",
     "text": [
      "Confusion Matrix\n",
      "[[24  0  0  0  0  0  2  0  0  0  0  0]\n",
      " [ 0 39  0  0  0  0  0  0  0  0  0  0]\n",
      " [ 0  0 26  1  1  0  0  0  0  0  0  0]\n",
      " [ 0  0  0 60  0  0  0  0  1  0  0  0]\n",
      " [ 0  0  0  0 22  0  0  0  0  0  0  0]\n",
      " [ 0  0  0  1  0 46  0  0  0  0  0  0]\n",
      " [ 2  0  0  0  0  0 63  0  0  0  0  0]\n",
      " [ 1  0  0  0  0  0  0 21  0  0  0  0]\n",
      " [ 0  0  0  0  0  0  0  0 51  0  0  0]\n",
      " [ 0  0  0  0  0  0  0  0  2 21  0  0]\n",
      " [ 0  0  0  0  0  0  0  0  0  0 49  0]\n",
      " [ 0  0  0  0  1  0  0  0  0  0  0 37]]\n"
     ]
    }
   ],
   "source": [
    "Y_pred = model.predict_generator( validation_gen, validation_gen.samples // batch_size+1)\n",
    "y_pred = np.argmax(Y_pred, axis=1)\n",
    "print('Confusion Matrix')\n",
    "print(confusion_matrix(validation_gen.classes, y_pred))"
   ]
  },
  {
   "cell_type": "code",
   "execution_count": 16,
   "id": "69f73adb",
   "metadata": {},
   "outputs": [
    {
     "name": "stdout",
     "output_type": "stream",
     "text": [
      "Classification Report\n",
      "                           precision    recall  f1-score   support\n",
      "\n",
      "              Black-grass       0.89      0.92      0.91        26\n",
      "                 Charlock       1.00      1.00      1.00        39\n",
      "                 Cleavers       1.00      0.93      0.96        28\n",
      "         Common Chickweed       0.97      0.98      0.98        61\n",
      "             Common wheat       0.92      1.00      0.96        22\n",
      "                  Fat Hen       1.00      0.98      0.99        47\n",
      "         Loose Silky-bent       0.97      0.97      0.97        65\n",
      "                    Maize       1.00      0.95      0.98        22\n",
      "        Scentless Mayweed       0.94      1.00      0.97        51\n",
      "          Shepherds Purse       1.00      0.91      0.95        23\n",
      "Small-flowered Cranesbill       1.00      1.00      1.00        49\n",
      "               Sugar beet       1.00      0.97      0.99        38\n",
      "\n",
      "                 accuracy                           0.97       471\n",
      "                macro avg       0.97      0.97      0.97       471\n",
      "             weighted avg       0.98      0.97      0.97       471\n",
      "\n"
     ]
    }
   ],
   "source": [
    "print('Classification Report')\n",
    "print(classification_report(validation_gen.classes, y_pred, target_names=CATEGORIES))"
   ]
  }
 ],
 "metadata": {
  "kernelspec": {
   "display_name": "Python 3 (ipykernel)",
   "language": "python",
   "name": "python3"
  },
  "language_info": {
   "codemirror_mode": {
    "name": "ipython",
    "version": 3
   },
   "file_extension": ".py",
   "mimetype": "text/x-python",
   "name": "python",
   "nbconvert_exporter": "python",
   "pygments_lexer": "ipython3",
   "version": "3.9.7"
  }
 },
 "nbformat": 4,
 "nbformat_minor": 5
}
